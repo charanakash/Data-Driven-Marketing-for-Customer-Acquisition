{
 "cells": [
  {
   "cell_type": "code",
   "execution_count": 98,
   "id": "ac0eebd0-4eca-4e65-a5a6-085262510ed9",
   "metadata": {},
   "outputs": [],
   "source": [
    "#imporitng necessary intial packages\n",
    "import pandas as pd\n",
    "import numpy as np\n",
    "import scipy.stats as stats\n",
    "import matplotlib.pyplot as plt\n",
    "from matplotlib import pyplot\n",
    "import seaborn as sns\n",
    "from sklearn.model_selection import train_test_split\n",
    "from sklearn.neighbors import KNeighborsClassifier\n",
    "from sklearn.linear_model import LogisticRegression\n",
    "from sklearn import metrics\n",
    "from sklearn.metrics import accuracy_score, confusion_matrix, precision_score, recall_score, f1_score, classification_report, roc_auc_score\n",
    "from sklearn.model_selection import GridSearchCV, cross_val_score\n",
    "from collections import Counter\n",
    "from imblearn.over_sampling import SMOTE,ADASYN\n",
    "from imblearn.combine import SMOTEENN\n",
    "from sklearn.svm import SVC"
   ]
  },
  {
   "cell_type": "markdown",
   "id": "1ced061c-22a2-455c-851f-60fa3f26388c",
   "metadata": {},
   "source": [
    "**• DOMAIN:** Banking, Marketing\n",
    "\n",
    "<br>**• CONTEXT:** A bank X is on a massive digital transformation for all its departments. Bank has a growing customer base whee majority of them are\n",
    "liability customers (depositors) vs borrowers (asset customers). The bank is interested in expanding the borrowers base rapidly to bring in more\n",
    "business via loan interests. A campaign that the bank ran in last quarter showed an average single digit conversion rate. Digital transformation\n",
    "being the core strength of the business strategy, marketing department wants to devise effective campaigns with better target marketing to\n",
    "increase the conversion ratio to double digit with same budget as per last campaign.\n",
    "\n",
    "<br>**• DATA DICTIONARY:** \n",
    "<br>**1.** ID: Customer ID\n",
    "<br>**2.** Age: Customer’s approximate age.\n",
    "<br>**3.** CustomerSince: Customer of the bank since. [unit is masked]\n",
    "<br>**4.** HighestSpend: Customer’s highest spend so far in one transaction. [unit is masked]\n",
    "<br>**5.** ZipCode: Customer’s zip code.\n",
    "<br>**6.** HiddenScore: A score associated to the customer which is masked by the bank as an IP.\n",
    "<br>**7.** MonthlyAverageSpend: Customer’s monthly average spend so far. [unit is masked]\n",
    "<br>**8.** Level: A level associated to the customer which is masked by the bank as an IP.\n",
    "<br>**9.** Mortgage: Customer’s mortgage. [unit is masked]\n",
    "<br>**10.** Security: Customer’s security asset with the bank. [unit is masked]\n",
    "<br>**11.** FixedDepositAccount: Customer’s fixed deposit account with the bank. [unit is masked]\n",
    "<br>**12.** InternetBanking: if the customer uses internet banking.\n",
    "<br>**13.** CreditCard: if the customer uses bank’s credit card.\n",
    "<br>**14.** LoanOnCard: if the customer has a loan on credit card.\n",
    "\n",
    "<br>**• PROJECT OBJECTIVE:** Build a Machine Learning model to perform focused marketing by predicting the potential customers who will convert\n",
    "using the historical dataset.\n",
    "\n",
    "<br>**• STEPS AND TASK:**"
   ]
  },
  {
   "cell_type": "markdown",
   "id": "278b15d3-ab7c-4a24-8a32-c82d3e83e0a5",
   "metadata": {},
   "source": [
    "**1. Data Understanding and Preparation**"
   ]
  },
  {
   "cell_type": "markdown",
   "id": "20e9c1c1-284c-4923-9407-aa3750726c1c",
   "metadata": {},
   "source": [
    "**A. Read both the Datasets ‘Data1’ and ‘Data 2’ as DataFrame and store them into two separate variables**"
   ]
  },
  {
   "cell_type": "code",
   "execution_count": 242,
   "id": "513b0146-b1c4-45e3-8c58-271f37707a75",
   "metadata": {},
   "outputs": [],
   "source": [
    "df_1 = pd.read_csv(\"Part2-Data1.csv\")\n",
    "df_2 = pd.read_csv(\"Part2-Data2.csv\")"
   ]
  },
  {
   "cell_type": "markdown",
   "id": "0a81c687-e6d6-4beb-9fa5-a81c0a4d8192",
   "metadata": {},
   "source": [
    "**B. Print shape and Column Names and DataTypes of both the Dataframes.**"
   ]
  },
  {
   "cell_type": "code",
   "execution_count": 243,
   "id": "ddd2b405-ac91-454c-9060-d1459f82a2f3",
   "metadata": {},
   "outputs": [
    {
     "name": "stdout",
     "output_type": "stream",
     "text": [
      "df_1\n",
      "Shape -  5000 rows 8 columns \n",
      "\n",
      "Column Names -  ['ID', 'Age', 'CustomerSince', 'HighestSpend', 'ZipCode', 'HiddenScore', 'MonthlyAverageSpend', 'Level'] \n",
      "\n",
      "Dtypes\n",
      "ID                       int64\n",
      "Age                      int64\n",
      "CustomerSince            int64\n",
      "HighestSpend             int64\n",
      "ZipCode                  int64\n",
      "HiddenScore              int64\n",
      "MonthlyAverageSpend    float64\n",
      "Level                    int64\n",
      "dtype: object\n",
      "\n",
      "***************************************** \n",
      "\n",
      "df_2\n",
      "Shape -  5000 rows 7 columns \n",
      "\n",
      "Column Names -  ['ID', 'Mortgage', 'Security', 'FixedDepositAccount', 'InternetBanking', 'CreditCard', 'LoanOnCard'] \n",
      "\n",
      "Dtypes\n",
      "ID                       int64\n",
      "Mortgage                 int64\n",
      "Security                 int64\n",
      "FixedDepositAccount      int64\n",
      "InternetBanking          int64\n",
      "CreditCard               int64\n",
      "LoanOnCard             float64\n",
      "dtype: object\n",
      "\n",
      "***************************************** \n",
      "\n"
     ]
    }
   ],
   "source": [
    "df_namelist = ['df_1', 'df_2']\n",
    "df_list = [df_1, df_2]\n",
    "for i in range(0,len(df_list)):\n",
    "    print(df_namelist[i])\n",
    "    print('Shape - ', df_list[i].shape[0], 'rows', df_list[i].shape[1], 'columns \\n')\n",
    "    print('Column Names - ', df_list[i].columns.to_list(), '\\n\\nDtypes')\n",
    "    print(df_list[i].dtypes)\n",
    "    print('\\n***************************************** \\n')"
   ]
  },
  {
   "cell_type": "markdown",
   "id": "531945f0-1773-4745-b4f8-aed1d36a8fbc",
   "metadata": {},
   "source": [
    "**C. Merge both the Dataframes on ‘ID’ feature to form a single DataFrame**"
   ]
  },
  {
   "cell_type": "code",
   "execution_count": 244,
   "id": "eca231c5-018b-497d-ba32-f09446b750d5",
   "metadata": {},
   "outputs": [
    {
     "data": {
      "text/plain": [
       "(5000, 14)"
      ]
     },
     "execution_count": 244,
     "metadata": {},
     "output_type": "execute_result"
    }
   ],
   "source": [
    "df = pd.merge(df_1,df_2, how='inner', left_on='ID', right_on='ID')\n",
    "df.shape"
   ]
  },
  {
   "cell_type": "markdown",
   "id": "408e84ac-8898-411e-ad35-e1b1ca72ef31",
   "metadata": {},
   "source": [
    "**D. Change Datatype of below features to ‘Object’**\n",
    "\n",
    "‘CreditCard’, ‘InternetBanking’, ‘FixedDepositAccount’, ‘Security’, ‘Level’, ‘HiddenScore’."
   ]
  },
  {
   "cell_type": "code",
   "execution_count": 245,
   "id": "403824f3-ecad-4a7a-bfe9-9ac9413c3c78",
   "metadata": {},
   "outputs": [
    {
     "data": {
      "text/plain": [
       "ID                       int64\n",
       "Age                      int64\n",
       "CustomerSince            int64\n",
       "HighestSpend             int64\n",
       "ZipCode                  int64\n",
       "HiddenScore             object\n",
       "MonthlyAverageSpend    float64\n",
       "Level                   object\n",
       "Mortgage                 int64\n",
       "Security                object\n",
       "FixedDepositAccount     object\n",
       "InternetBanking         object\n",
       "CreditCard              object\n",
       "LoanOnCard             float64\n",
       "dtype: object"
      ]
     },
     "execution_count": 245,
     "metadata": {},
     "output_type": "execute_result"
    }
   ],
   "source": [
    "col_list = ['CreditCard','InternetBanking','FixedDepositAccount','Security','Level','HiddenScore']\n",
    "for i in range(0, len(col_list)):\n",
    "    df[col_list[i]] = df[col_list[i]].astype(object, errors='ignore')\n",
    "df.dtypes"
   ]
  },
  {
   "cell_type": "markdown",
   "id": "96a986ed-c4e2-48e2-95fe-13d90a93061c",
   "metadata": {},
   "source": [
    "**2. Data Exploration and Analysis:**"
   ]
  },
  {
   "cell_type": "markdown",
   "id": "0fb0b32a-c015-45f8-8486-bea95a18e38b",
   "metadata": {},
   "source": [
    "**A. Visualize distribution of Target variable ‘LoanOnCard’ and clearly share insights.**"
   ]
  },
  {
   "cell_type": "code",
   "execution_count": 246,
   "id": "16dbad76-c36c-43d0-a7d6-e3c97d5e4cc0",
   "metadata": {},
   "outputs": [
    {
     "data": {
      "image/png": "[encoded data removed]",
      "text/plain": [
       "<Figure size 640x480 with 1 Axes>"
      ]
     },
     "metadata": {},
     "output_type": "display_data"
    }
   ],
   "source": [
    "ax = sns.countplot(data=df,x='LoanOnCard',stat='count');\n",
    "ax.bar_label(ax.containers[0]);"
   ]
  },
  {
   "cell_type": "markdown",
   "id": "c13e59d8-ab69-44b5-a574-a43f484ff5a0",
   "metadata": {},
   "source": [
    "Taking \"0\" as \"Loan Declined\" and \"1\" as \"Laon given\",\n",
    "<br>This shows that the bank doesn't offer loan that easily on cards and that's why only ~10% of the total application gets approved to get the loan.\n",
    "Also, there are 20 null values, that either needs to be removed or taken care of in later stage."
   ]
  },
  {
   "cell_type": "markdown",
   "id": "3361356d-19da-4b7d-83e1-691e23b5b813",
   "metadata": {},
   "source": [
    "**B. Check the percentage of missing values and impute if required.**"
   ]
  },
  {
   "cell_type": "code",
   "execution_count": 247,
   "id": "f7dcbc32-c4c3-4990-a025-a1f53365beb8",
   "metadata": {},
   "outputs": [
    {
     "data": {
      "text/plain": [
       "ID                     0.000\n",
       "Age                    0.000\n",
       "CustomerSince          0.000\n",
       "HighestSpend           0.000\n",
       "ZipCode                0.000\n",
       "HiddenScore            0.000\n",
       "MonthlyAverageSpend    0.000\n",
       "Level                  0.000\n",
       "Mortgage               0.000\n",
       "Security               0.000\n",
       "FixedDepositAccount    0.000\n",
       "InternetBanking        0.000\n",
       "CreditCard             0.000\n",
       "LoanOnCard             0.004\n",
       "dtype: float64"
      ]
     },
     "execution_count": 247,
     "metadata": {},
     "output_type": "execute_result"
    }
   ],
   "source": [
    "(df.isnull().sum()/df.shape[0])"
   ]
  },
  {
   "cell_type": "markdown",
   "id": "7c75a489-67db-42d3-ae6c-8fdd23f31352",
   "metadata": {},
   "source": [
    "We only have null values in our target variable \"LoanOnCard\". It only has 0.4% of the total i.e. 20 rows out of 5000 as null. Therefore because of such a low number we can drop the null records."
   ]
  },
  {
   "cell_type": "code",
   "execution_count": 248,
   "id": "28ac2e04-0062-4123-9ace-7a341c64efe0",
   "metadata": {},
   "outputs": [],
   "source": [
    "df.dropna(inplace=True)"
   ]
  },
  {
   "cell_type": "markdown",
   "id": "4d48dd0e-b3cb-4769-8788-42fa84946e6e",
   "metadata": {},
   "source": [
    "**C. Check for unexpected values in each categorical variable and impute with best suitable value.**\n",
    "\n",
    "[Unexpected values means if all values in a feature are 0/1 then ‘?’, ‘a’, 1.5 are unexpected values which needs treatment ]"
   ]
  },
  {
   "cell_type": "code",
   "execution_count": 249,
   "id": "e48af11b-eb4e-4a42-95b2-108a25dbd6f1",
   "metadata": {},
   "outputs": [
    {
     "name": "stdout",
     "output_type": "stream",
     "text": [
      "Age\n",
      "43    149\n",
      "35    148\n",
      "52    145\n",
      "54    143\n",
      "58    143\n",
      "50    136\n",
      "30    136\n",
      "56    135\n",
      "41    135\n",
      "34    134\n",
      "57    132\n",
      "39    132\n",
      "59    132\n",
      "51    129\n",
      "45    126\n",
      "46    126\n",
      "42    126\n",
      "60    126\n",
      "55    125\n",
      "31    125\n",
      "40    124\n",
      "29    123\n",
      "62    123\n",
      "61    122\n",
      "44    121\n",
      "32    120\n",
      "33    119\n",
      "48    117\n",
      "49    115\n",
      "38    115\n",
      "47    112\n",
      "53    111\n",
      "63    108\n",
      "36    107\n",
      "37    105\n",
      "28    103\n",
      "27     90\n",
      "65     79\n",
      "26     78\n",
      "64     78\n",
      "25     51\n",
      "24     28\n",
      "66     24\n",
      "67     12\n",
      "23     12\n",
      "Name: count, dtype: int64 \n",
      "**********************************\n",
      "\n",
      "CustomerSince\n",
      " 32    154\n",
      " 20    148\n",
      " 5     146\n",
      " 9     145\n",
      " 23    144\n",
      " 35    143\n",
      " 25    142\n",
      " 28    138\n",
      " 18    137\n",
      " 19    134\n",
      " 26    133\n",
      " 24    130\n",
      " 3     129\n",
      " 14    127\n",
      " 30    126\n",
      " 34    125\n",
      " 16    125\n",
      " 17    125\n",
      " 27    124\n",
      " 29    124\n",
      " 22    121\n",
      " 7     121\n",
      " 6     119\n",
      " 8     118\n",
      " 15    118\n",
      " 33    117\n",
      " 10    117\n",
      " 37    116\n",
      " 13    116\n",
      " 11    116\n",
      " 4     113\n",
      " 36    113\n",
      " 21    113\n",
      " 31    104\n",
      " 12    102\n",
      " 38     88\n",
      " 39     85\n",
      " 2      84\n",
      " 1      73\n",
      " 0      66\n",
      " 40     57\n",
      " 41     42\n",
      "-1      32\n",
      "-2      15\n",
      " 42      8\n",
      "-3       4\n",
      " 43      3\n",
      "Name: count, dtype: int64 \n",
      "**********************************\n",
      "\n",
      "HighestSpend\n",
      "44     85\n",
      "38     84\n",
      "81     82\n",
      "39     81\n",
      "41     81\n",
      "       ..\n",
      "202     2\n",
      "203     2\n",
      "189     2\n",
      "224     1\n",
      "218     1\n",
      "Name: count, Length: 162, dtype: int64 \n",
      "**********************************\n",
      "\n",
      "ZipCode\n",
      "94720    167\n",
      "94305    125\n",
      "95616    116\n",
      "90095     71\n",
      "93106     57\n",
      "        ... \n",
      "91024      1\n",
      "94087      1\n",
      "96145      1\n",
      "9307       1\n",
      "94598      1\n",
      "Name: count, Length: 467, dtype: int64 \n",
      "**********************************\n",
      "\n",
      "HiddenScore\n",
      "1    1466\n",
      "2    1293\n",
      "4    1215\n",
      "3    1006\n",
      "Name: count, dtype: int64 \n",
      "**********************************\n",
      "\n",
      "MonthlyAverageSpend\n",
      "0.30    240\n",
      "1.00    229\n",
      "0.20    204\n",
      "2.00    188\n",
      "0.80    187\n",
      "       ... \n",
      "8.90      1\n",
      "3.67      1\n",
      "4.67      1\n",
      "3.25      1\n",
      "2.75      1\n",
      "Name: count, Length: 108, dtype: int64 \n",
      "**********************************\n",
      "\n",
      "Level\n",
      "1    2089\n",
      "3    1496\n",
      "2    1395\n",
      "Name: count, dtype: int64 \n",
      "**********************************\n",
      "\n",
      "Mortgage\n",
      "0      3447\n",
      "98       17\n",
      "103      16\n",
      "89       16\n",
      "119      16\n",
      "       ... \n",
      "547       1\n",
      "458       1\n",
      "505       1\n",
      "361       1\n",
      "541       1\n",
      "Name: count, Length: 347, dtype: int64 \n",
      "**********************************\n",
      "\n",
      "Security\n",
      "0    4460\n",
      "1     520\n",
      "Name: count, dtype: int64 \n",
      "**********************************\n",
      "\n",
      "FixedDepositAccount\n",
      "0    4678\n",
      "1     302\n",
      "Name: count, dtype: int64 \n",
      "**********************************\n",
      "\n",
      "InternetBanking\n",
      "1    2974\n",
      "0    2006\n",
      "Name: count, dtype: int64 \n",
      "**********************************\n",
      "\n",
      "CreditCard\n",
      "0    3514\n",
      "1    1466\n",
      "Name: count, dtype: int64 \n",
      "**********************************\n",
      "\n",
      "LoanOnCard\n",
      "0.0    4500\n",
      "1.0     480\n",
      "Name: count, dtype: int64 \n",
      "**********************************\n",
      "\n"
     ]
    }
   ],
   "source": [
    "col_obj = df.iloc[:,1:14].columns\n",
    "for i in range(0,len(col_obj)):\n",
    "    print(df[col_obj[i]].value_counts(),'\\n**********************************\\n')"
   ]
  },
  {
   "cell_type": "markdown",
   "id": "8551eb8e-908b-44b9-a851-aa6bf093777f",
   "metadata": {},
   "source": [
    "So we don't have any typos or unexpected value in our feature columns other than 'CustomerSince'. It has some negative values which doesn't make sense"
   ]
  },
  {
   "cell_type": "code",
   "execution_count": 250,
   "id": "3bf26c36-b288-4095-b7c8-f1ea71e5f143",
   "metadata": {},
   "outputs": [
    {
     "data": {
      "text/plain": [
       "CustomerSince\n",
       "-1    32\n",
       "-2    15\n",
       "-3     4\n",
       "Name: count, dtype: int64"
      ]
     },
     "execution_count": 250,
     "metadata": {},
     "output_type": "execute_result"
    }
   ],
   "source": [
    "df[df['CustomerSince']<0]['CustomerSince'].value_counts()"
   ]
  },
  {
   "cell_type": "markdown",
   "id": "8c55e2ac-b1db-4cc4-abfe-8a2e4df7c6ff",
   "metadata": {},
   "source": [
    "As we cannot further analyze what it means in absense of SME of the business, we will mark these as typos and will remove the negative sign"
   ]
  },
  {
   "cell_type": "code",
   "execution_count": 251,
   "id": "feb5d822-751e-4690-b38e-bfac6a79a10e",
   "metadata": {},
   "outputs": [],
   "source": [
    "df['CustomerSince'] = df['CustomerSince'].apply(lambda x: x*-1 if x<0 else x)"
   ]
  },
  {
   "cell_type": "markdown",
   "id": "45ddeea3-5b72-479e-b1f7-35e7d7018c2a",
   "metadata": {},
   "source": [
    "**3. Data Preparation and model building:**"
   ]
  },
  {
   "cell_type": "markdown",
   "id": "4c8778dd-dc7d-45f8-b6b3-7dddb52953f0",
   "metadata": {},
   "source": [
    "**A. Split data into X and Y.**\n",
    "\n",
    "[Recommended to drop ID & ZipCode. LoanOnCard is target Variable]"
   ]
  },
  {
   "cell_type": "markdown",
   "id": "f2901f18-e77e-43d1-b08b-7089bd4b5273",
   "metadata": {},
   "source": [
    "**Answer**\n",
    "\n",
    "dropping unwanted columns like ID and ZipCode. THough location can be one of the important metric, we are drippoing ZipCode because it is numeric in nature, so it won't help us inprediction and can also harm the accuracy. To make it useful we will need to turn that zipcode into city name and the do \"One hot encoding\" to make it useful. For our project we will proceed without it and will come back if we want to increase the accurancy"
   ]
  },
  {
   "cell_type": "code",
   "execution_count": 255,
   "id": "48f64db3-d189-40c5-bb10-b538803e9f38",
   "metadata": {},
   "outputs": [],
   "source": [
    "df.drop(['ID','ZipCode'], axis=1, inplace=True)\n",
    "\n",
    "#spliting into x,y\n",
    "x=df.drop(['LoanOnCard'], axis=1)\n",
    "y= df['LoanOnCard']"
   ]
  },
  {
   "cell_type": "markdown",
   "id": "01049fcf-52c6-4ae2-8622-532d9891b0f6",
   "metadata": {},
   "source": [
    "**B. Split data into train and test. Keep 25% data reserved for testing.**"
   ]
  },
  {
   "cell_type": "code",
   "execution_count": 256,
   "id": "7d4fe96a-f6f3-484e-865a-efc2e7801cfe",
   "metadata": {},
   "outputs": [],
   "source": [
    "x_train, x_test, y_train, y_test = train_test_split(x, y, test_size=0.25, random_state=1)"
   ]
  },
  {
   "cell_type": "markdown",
   "id": "b460670f-699a-4a65-b9bb-54d7000183d3",
   "metadata": {},
   "source": [
    "**C. Train a Supervised Learning Classification base model - Logistic Regression.**"
   ]
  },
  {
   "cell_type": "code",
   "execution_count": 257,
   "id": "178f30fc-4b3f-455f-809b-76458948ea63",
   "metadata": {},
   "outputs": [],
   "source": [
    "#creating model\n",
    "model = LogisticRegression(solver=\"liblinear\")\n",
    "#training the model on train data\n",
    "model.fit(x_train, y_train)\n",
    "\n",
    "#predicting test data using trained model\n",
    "y_predict = model.predict(x_test)\n"
   ]
  },
  {
   "cell_type": "markdown",
   "id": "2c2673f5-6f0a-4607-a601-01d39fdf9fd7",
   "metadata": {},
   "source": [
    "**D. Print evaluation metrics for the model and clearly share insights.**"
   ]
  },
  {
   "cell_type": "code",
   "execution_count": 258,
   "id": "e243b5f1-a0a8-41d3-9e8d-b728ab1dfb37",
   "metadata": {},
   "outputs": [
    {
     "name": "stdout",
     "output_type": "stream",
     "text": [
      "Score of the model 0.95\n"
     ]
    },
    {
     "data": {
      "text/plain": [
       "<Axes: >"
      ]
     },
     "execution_count": 258,
     "metadata": {},
     "output_type": "execute_result"
    },
    {
     "data": {
      "image/png": "[encoded data removed]",
      "text/plain": [
       "<Figure size 700x500 with 2 Axes>"
      ]
     },
     "metadata": {},
     "output_type": "display_data"
    }
   ],
   "source": [
    "model_score = model.score(x_test, y_test)\n",
    "print('Score of the model %.2f' %model_score)\n",
    "\n",
    "cm=metrics.confusion_matrix(y_test, y_predict, labels=[1, 0])\n",
    "\n",
    "df_cm = pd.DataFrame(cm, index = [i for i in [\"1\",\"0\"]],\n",
    "                  columns = [i for i in [\"Predict 1\",\"Predict 0\"]])\n",
    "plt.figure(figsize = (7,5))\n",
    "sns.heatmap(df_cm, annot=True, fmt='.0f')"
   ]
  },
  {
   "cell_type": "code",
   "execution_count": 259,
   "id": "2a7bbea2-7836-4c0f-84fc-525824fe88b8",
   "metadata": {},
   "outputs": [
    {
     "name": "stdout",
     "output_type": "stream",
     "text": [
      "              precision    recall  f1-score   support\n",
      "\n",
      "         0.0       0.96      0.99      0.97      1118\n",
      "         1.0       0.85      0.59      0.70       127\n",
      "\n",
      "    accuracy                           0.95      1245\n",
      "   macro avg       0.90      0.79      0.83      1245\n",
      "weighted avg       0.94      0.95      0.94      1245\n",
      "\n",
      "ROC AUC Score 0.79\n"
     ]
    }
   ],
   "source": [
    "print(classification_report(y_test, y_predict))\n",
    "print(\"ROC AUC Score %.2f\" %roc_auc_score(y_test, y_predict, average='weighted'))"
   ]
  },
  {
   "cell_type": "code",
   "execution_count": 263,
   "id": "06ce7421-49a3-4e8f-983a-3ac180c971f5",
   "metadata": {},
   "outputs": [],
   "source": [
    "accuracy = accuracy_score(y_test, y_predict)\n",
    "error_rate = 1 - accuracy\n",
    "precision = precision_score(y_test, y_predict, average='weighted')\n",
    "recall = recall_score(y_test, y_predict, average='weighted') \n",
    "f1 = f1_score(y_test, y_predict, average='weighted')"
   ]
  },
  {
   "cell_type": "markdown",
   "id": "dd2ade28-9d47-465b-b112-dc4a482ba17d",
   "metadata": {},
   "source": [
    "The confusion matrix\n",
    "\n",
    "True Positives (TP): we correctly predicted that they should get loan **75**\n",
    "\n",
    "True Negatives (TN): we correctly predicted that they shouldn't get loan **1105**\n",
    "\n",
    "False Positives (FP): we incorrectly predicted that they hould get loan (a \"Type I error\") **13** Falsely predict positive Type I error\n",
    "\n",
    "False Negatives (FN): we incorrectly predicted that they shouldn't get loan (a \"Type II error\") **52** Falsely predict negative Type II error\n",
    "\n",
    "\n",
    "<br>We have a model score of 95%, which is really a good score.\n",
    "<br>Precision of the model for people who should get a loan is 96% compared to 85% who should get the loan. Thought the accuracy of finding the right person to give loan is less but Bank always want to know whether it is safe to give loan or not, which our model will do fine.\n",
    "<br> Same goes with recall, as it give 99% score to tell Bank that they shoudl not offer a loan to a person x.\n",
    "<br>F1-score for rejecting an application is 97%, which again says our model is good.\n",
    "<br>ROC AUC score is 79% which is on a lower side."
   ]
  },
  {
   "cell_type": "markdown",
   "id": "95e4e169-b06f-4ac7-bce3-a1763d8a9e7f",
   "metadata": {},
   "source": [
    "**E. Balance the data using the right balancing technique.**\n",
    "<br>i. Check distribution of the target variable\n",
    "<br>ii. Say output is class A : 20% and class B : 80%\n",
    "<br>iii. Here you need to balance the target variable as 50:50.\n",
    "<br>iv. Try appropriate method to achieve the same."
   ]
  },
  {
   "cell_type": "code",
   "execution_count": 264,
   "id": "2a137140-8e51-4aee-a75d-8532f6350442",
   "metadata": {},
   "outputs": [
    {
     "data": {
      "text/plain": [
       "LoanOnCard\n",
       "0.0    0.905489\n",
       "1.0    0.094511\n",
       "Name: count, dtype: float64"
      ]
     },
     "execution_count": 264,
     "metadata": {},
     "output_type": "execute_result"
    }
   ],
   "source": [
    "y_train.value_counts()/y_train.shape[0]"
   ]
  },
  {
   "cell_type": "markdown",
   "id": "24f9429b-af79-4197-91fe-71afb998b9d1",
   "metadata": {},
   "source": [
    "The distribution of our target variable is ~90:10, therfore ~90% as \"0\" and ~10% as \"1\"\n",
    "<br> We will use SMOTE technique in order to balance the data\n",
    "\n",
    "* **Random Over Sampling (ROS):** This simply duplicates data points from the minority class randomly. It's a quick and easy approach, but it can lead to overfitting because the model memorizes the duplicated data.\n",
    "* **SMOTE (Synthetic Minority Over-sampling Technique):** This technique creates synthetic data points for the minority class by interpolating between existing minority class data points. It can be more effective than ROS but requires more computational resources."
   ]
  },
  {
   "cell_type": "code",
   "execution_count": 265,
   "id": "b75d5951-107e-4aaf-8c18-02c7d8fec367",
   "metadata": {},
   "outputs": [
    {
     "name": "stdout",
     "output_type": "stream",
     "text": [
      "Original Class Counts: Counter({0.0: 3382, 1.0: 353})\n",
      "Resampled Class Counts: Counter({0.0: 3382, 1.0: 3382})\n"
     ]
    }
   ],
   "source": [
    "# Count class labels\n",
    "class_counts = Counter(y_train)\n",
    "minority_class = class_counts.most_common()[-1][0]  #last class is the minority i.e. \"1\"\n",
    "\n",
    "# Create the SMOTE object (adjust k_neighbors as needed to improve)\n",
    "#smote = SMOTE(k_neighbors=5)\n",
    "smote = SMOTE()\n",
    "\n",
    "# Oversample the minority class\n",
    "x_train_resampled, y_train_resampled = smote.fit_resample(x_train, y_train)\n",
    "\n",
    "\n",
    "print(\"Original Class Counts:\", class_counts)\n",
    "print(\"Resampled Class Counts:\", Counter(y_train_resampled))\n",
    "\n",
    "\n",
    "\n",
    "\n",
    "\n",
    "\n",
    "\n",
    "# # Count class labels\n",
    "# class_counts = Counter(y_train)\n",
    "# minority_class = class_counts.most_common()[-1][0]  #last class is the minority i.e. \"1\"\n",
    "\n",
    "# # Create the SMOTE object (adjust k_neighbors as needed to improve)\n",
    "# #smote = SMOTE(k_neighbors=5)\n",
    "# smote = ADASYN(random_state=130)\n",
    "\n",
    "# # Oversample the minority class\n",
    "# x_train_resampled, y_train_resampled = smote.fit_resample(x_train, y_train)\n",
    "\n",
    "\n",
    "# print(\"Original Class Counts:\", class_counts)\n",
    "# print(\"Resampled Class Counts:\", Counter(y_train_resampled))\n",
    "\n",
    "\n",
    "\n",
    "\n",
    "\n",
    "\n",
    "\n",
    "\n",
    "\n",
    "# # Count class labels\n",
    "# class_counts = Counter(y_train)\n",
    "# minority_class = class_counts.most_common()[-1][0]  #last class is the minority i.e. \"1\"\n",
    "\n",
    "# # Create the SMOTE object (adjust k_neighbors as needed to improve)\n",
    "# #smote = SMOTE(k_neighbors=5)\n",
    "# smote = SMOTEENN(random_state=130)\n",
    "\n",
    "# # Oversample the minority class\n",
    "# x_train_resampled, y_train_resampled = smote.fit_resample(x_train, y_train)\n",
    "\n",
    "\n",
    "# print(\"Original Class Counts:\", class_counts)\n",
    "# print(\"Resampled Class Counts:\", Counter(y_train_resampled))"
   ]
  },
  {
   "cell_type": "markdown",
   "id": "a1525634-21d3-487b-ba89-a45d78457637",
   "metadata": {},
   "source": [
    "I did oversappling with SOMTE, ADASYN and SMOTEENN. Out of which SMOTE was performing better than any other."
   ]
  },
  {
   "cell_type": "markdown",
   "id": "8f6275bd-a684-4819-9048-e5fc85ff365a",
   "metadata": {},
   "source": [
    "**F. Again train the same previous model on balanced data.**"
   ]
  },
  {
   "cell_type": "code",
   "execution_count": 266,
   "id": "f0295214-6476-4cae-b244-1e00b85d20c5",
   "metadata": {},
   "outputs": [],
   "source": [
    "#creating model\n",
    "model = LogisticRegression(solver=\"liblinear\")\n",
    "#training the model on train data\n",
    "model.fit(x_train_resampled, y_train_resampled)\n",
    "\n",
    "#predicting test data using trained model\n",
    "y_predict = model.predict(x_test)\n"
   ]
  },
  {
   "cell_type": "markdown",
   "id": "650099ee-d72a-461a-9577-1fbcf01bdcb5",
   "metadata": {},
   "source": [
    "**G. Print evaluation metrics and clearly share differences observed.**"
   ]
  },
  {
   "cell_type": "code",
   "execution_count": 267,
   "id": "199cb233-d4c8-4316-b6ca-7fe7b65255b4",
   "metadata": {},
   "outputs": [
    {
     "name": "stdout",
     "output_type": "stream",
     "text": [
      "Score of the model 0.89\n"
     ]
    },
    {
     "data": {
      "text/plain": [
       "<Axes: >"
      ]
     },
     "execution_count": 267,
     "metadata": {},
     "output_type": "execute_result"
    },
    {
     "data": {
      "image/png": "[encoded data removed]",
      "text/plain": [
       "<Figure size 700x500 with 2 Axes>"
      ]
     },
     "metadata": {},
     "output_type": "display_data"
    }
   ],
   "source": [
    "model_score = model.score(x_test, y_test)\n",
    "print('Score of the model %.2f' %model_score)\n",
    "\n",
    "cm=metrics.confusion_matrix(y_test, y_predict, labels=[1, 0])\n",
    "\n",
    "df_cm = pd.DataFrame(cm, index = [i for i in [\"1\",\"0\"]],\n",
    "                  columns = [i for i in [\"Predict 1\",\"Predict 0\"]])\n",
    "plt.figure(figsize = (7,5))\n",
    "sns.heatmap(df_cm, annot=True, fmt='.0f')"
   ]
  },
  {
   "cell_type": "code",
   "execution_count": 268,
   "id": "0005a1cb-4a24-4815-a174-21a21196f043",
   "metadata": {},
   "outputs": [
    {
     "name": "stdout",
     "output_type": "stream",
     "text": [
      "              precision    recall  f1-score   support\n",
      "\n",
      "         0.0       0.99      0.89      0.93      1118\n",
      "         1.0       0.47      0.88      0.62       127\n",
      "\n",
      "    accuracy                           0.89      1245\n",
      "   macro avg       0.73      0.89      0.77      1245\n",
      "weighted avg       0.93      0.89      0.90      1245\n",
      "\n",
      "ROC AUC Score 0.89\n"
     ]
    }
   ],
   "source": [
    "print(classification_report(y_test, y_predict))\n",
    "print(\"ROC AUC Score %.2f\" %roc_auc_score(y_test, y_predict, average='weighted'))"
   ]
  },
  {
   "cell_type": "code",
   "execution_count": 269,
   "id": "67d1c053-7569-4a56-8cc0-06f7de81b320",
   "metadata": {},
   "outputs": [],
   "source": [
    "accuracy_2 = accuracy_score(y_test, y_predict)\n",
    "error_rate_2 = 1 - accuracy_2\n",
    "precision_2 = precision_score(y_test, y_predict, average='weighted')\n",
    "recall_2 = recall_score(y_test, y_predict, average='weighted') \n",
    "f1_2 = f1_score(y_test, y_predict, average='weighted')"
   ]
  },
  {
   "cell_type": "code",
   "execution_count": 270,
   "id": "7260a719-c1b2-4ab4-bc9d-97c91ddd06f8",
   "metadata": {},
   "outputs": [
    {
     "name": "stdout",
     "output_type": "stream",
     "text": [
      "Accurancy decreased by -6.36 %\n",
      "Precision decreased by -1.24 %\n",
      "Error rate increased by 115.38 %\n",
      "Recall decreased by -6.36 %\n",
      "F1 Score decreased by -4.44 %\n"
     ]
    }
   ],
   "source": [
    "print(\"Accurancy decreased by %.2f\" %(((accuracy_2-accuracy)/accuracy)*100),'%')\n",
    "print(\"Precision decreased by %.2f\" %(((precision_2-precision)/precision)*100),'%')\n",
    "print(\"Error rate increased by %.2f\" %(((error_rate_2-error_rate)/error_rate)*100),'%')\n",
    "print(\"Recall decreased by %.2f\" %(((recall_2-recall)/recall)*100),'%')\n",
    "print(\"F1 Score decreased by %.2f\" %(((f1_2-f1)/f1)*100),'%')"
   ]
  },
  {
   "cell_type": "markdown",
   "id": "e44868a8-ef3d-4e87-961b-2fd164843a0f",
   "metadata": {},
   "source": [
    "Balancing the train data hasn't helped us any but has made our model poorer overall.\n",
    "<br> Precision for telling not to give has increased from 94% to 99% which is a good thing but at the same time Recall and F1 score for not giving loan to a person has fallen down.\n",
    "<br>ROC AUC score improved from 79% to 89%\n",
    "<br>False Positives (FP): we incorrectly predicted that they hould get loan (a \"Type I error\") **125** Falsely predict positive Type I error, which definitely what we don't want."
   ]
  },
  {
   "cell_type": "markdown",
   "id": "efd57cf3-cf48-44d5-9d67-fab10d18ab76",
   "metadata": {},
   "source": [
    "**4. Performance Improvement:**"
   ]
  },
  {
   "cell_type": "markdown",
   "id": "9113cb17-6b8d-4615-8dd6-fa01ad278913",
   "metadata": {},
   "source": [
    "**A. Train a base model each for SVM, KNN**"
   ]
  },
  {
   "cell_type": "markdown",
   "id": "ed38fc35-7953-4d29-81f5-7189736062a1",
   "metadata": {},
   "source": [
    "SVM"
   ]
  },
  {
   "cell_type": "code",
   "execution_count": 271,
   "id": "8e5f39ea-014b-4a94-ba5c-815616f49daa",
   "metadata": {},
   "outputs": [
    {
     "name": "stdout",
     "output_type": "stream",
     "text": [
      "Score of the model 0.90\n",
      "              precision    recall  f1-score   support\n",
      "\n",
      "         0.0       0.91      0.99      0.95      1118\n",
      "         1.0       0.65      0.10      0.18       127\n",
      "\n",
      "    accuracy                           0.90      1245\n",
      "   macro avg       0.78      0.55      0.56      1245\n",
      "weighted avg       0.88      0.90      0.87      1245\n",
      "\n"
     ]
    },
    {
     "data": {
      "image/png": "[encoded data removed]",
      "text/plain": [
       "<Figure size 300x200 with 2 Axes>"
      ]
     },
     "metadata": {},
     "output_type": "display_data"
    }
   ],
   "source": [
    "#defininf the SVM model\n",
    "Model1=SVC()\n",
    "#training the model\n",
    "Model1.fit(x_train,y_train)\n",
    "#predicitng y_test\n",
    "y_predict1=Model1.predict(x_test)\n",
    "\n",
    "model_score = Model1.score(x_test, y_test)\n",
    "print('Score of the model %.2f' %model_score)\n",
    "print(classification_report(y_test, y_predict1))\n",
    "\n",
    "\n",
    "accuracy = accuracy_score(y_test, y_predict1)\n",
    "error_rate = 1 - accuracy\n",
    "precision = precision_score(y_test, y_predict1, average='weighted')\n",
    "recall = recall_score(y_test, y_predict1, average='weighted') \n",
    "f1 = f1_score(y_test, y_predict1, average='weighted')\n",
    "\n",
    "cm=metrics.confusion_matrix(y_test, y_predict1, labels=[1, 0])\n",
    "df_cm = pd.DataFrame(cm, index = [i for i in [\"1\",\"0\"]], columns = [i for i in [\"Predict 1\",\"Predict 0\"]])\n",
    "plt.figure(figsize = (3,2))\n",
    "sns.heatmap(df_cm, annot=True, fmt='.0f')\n",
    "plt.show()"
   ]
  },
  {
   "cell_type": "markdown",
   "id": "f849d3f6-c75d-4508-b8af-088ba4503268",
   "metadata": {},
   "source": [
    "KNN"
   ]
  },
  {
   "cell_type": "code",
   "execution_count": 272,
   "id": "7130c75c-ba59-4039-993f-3d7bde5237fa",
   "metadata": {},
   "outputs": [
    {
     "name": "stdout",
     "output_type": "stream",
     "text": [
      "Score of the model 0.90\n",
      "              precision    recall  f1-score   support\n",
      "\n",
      "         0.0       0.91      0.99      0.95      1118\n",
      "         1.0       0.65      0.10      0.18       127\n",
      "\n",
      "    accuracy                           0.90      1245\n",
      "   macro avg       0.78      0.55      0.56      1245\n",
      "weighted avg       0.88      0.90      0.87      1245\n",
      "\n"
     ]
    },
    {
     "data": {
      "image/png": "[encoded data removed]",
      "text/plain": [
       "<Figure size 300x200 with 2 Axes>"
      ]
     },
     "metadata": {},
     "output_type": "display_data"
    }
   ],
   "source": [
    "#defininf the KNN model\n",
    "Model2 = KNeighborsClassifier()\n",
    "#training the model\n",
    "Model2.fit(x_train, y_train)\n",
    "#predicitng y_test\n",
    "y_predict2=Model2.predict(x_test)\n",
    "\n",
    "model_score = Model2.score(x_test, y_test)\n",
    "print('Score of the model %.2f' %model_score)\n",
    "print(classification_report(y_test, y_predict1))\n",
    "\n",
    "cm=metrics.confusion_matrix(y_test, y_predict2, labels=[1, 0])\n",
    "df_cm = pd.DataFrame(cm, index = [i for i in [\"1\",\"0\"]], columns = [i for i in [\"Predict 1\",\"Predict 0\"]])\n",
    "plt.figure(figsize = (3,2))\n",
    "sns.heatmap(df_cm, annot=True, fmt='.0f')\n",
    "plt.show()"
   ]
  },
  {
   "cell_type": "markdown",
   "id": "bbc1b07f-c963-42d6-bce5-94db4fb52459",
   "metadata": {},
   "source": [
    "**B. Tune parameters for each of the models wherever required and finalize a model.**\n",
    "\n",
    "(Optional: Experiment with various Hyperparameters - Research required)"
   ]
  },
  {
   "cell_type": "markdown",
   "id": "44baf9f7-1c06-4105-8fd1-006902fcf831",
   "metadata": {},
   "source": [
    "**Tuning KNN with different parameters**"
   ]
  },
  {
   "cell_type": "code",
   "execution_count": 103,
   "id": "430e9376-9f3e-467c-8d2f-6a6679e6042f",
   "metadata": {},
   "outputs": [],
   "source": [
    "result_train = {}\n",
    "result_test = {}\n",
    "\n",
    "#This function concatenate test and train scores in a dataframe\n",
    "def prepare_dataframe(test_score_dict,train_score_dict,key,columns):\n",
    "    df_test = pd.DataFrame(test_score_dict,index = [\"Test Score\"])\n",
    "    df_train = pd.DataFrame(train_score_dict,index = [\"Train Score\"])\n",
    "    np_result = np.concatenate([df_test,df_train],axis = 0)\n",
    "    df_result = pd.DataFrame(np_result)\n",
    "\n",
    "    df_result.index = [\"Test Score\",\"Train Score\"]\n",
    "    df_result.columns = [key + str(c) for c in columns]  \n",
    "    return df_result\n",
    "\n",
    "#Implementing KNN algoritms with different parameters\n",
    "def knn_model(n_neighbors = 5,weights = 'uniform',algorithm = 'auto',p = 2):\n",
    "    knn = KNeighborsClassifier(n_neighbors = n_neighbors,\n",
    "                               weights = weights,\n",
    "                               algorithm = algorithm,\n",
    "                               p = p\n",
    "                              )\n",
    "    \n",
    "    accuracies_train = cross_val_score(estimator = knn, X = x_train, y = y_train, cv = 3)\n",
    "    train_score = np.mean(accuracies_train)\n",
    "    \n",
    "    knn.fit(x_train,y_train)\n",
    "    test_score = knn.score(x_test,y_test)\n",
    "   \n",
    "    return train_score, test_score"
   ]
  },
  {
   "cell_type": "code",
   "execution_count": 104,
   "id": "4ff4ca51-1229-4e6b-8643-a8e6efe49e21",
   "metadata": {},
   "outputs": [
    {
     "name": "stdout",
     "output_type": "stream",
     "text": [
      "Mean accuracy of train set: 0.9046854082998661\n",
      "Mean accuracy of test set: 0.9020080321285141\n"
     ]
    }
   ],
   "source": [
    "#KNN algorithm implementation with default parameters\n",
    "train_score,test_score = knn_model()\n",
    "result_train[\"Default-Train\"] = train_score\n",
    "result_test[\"Default-Test\"] = test_score\n",
    "print(\"Mean accuracy of train set:\",train_score)\n",
    "print(\"Mean accuracy of test set:\", test_score) "
   ]
  },
  {
   "cell_type": "markdown",
   "id": "abf5ae27-8667-49c2-aaac-48bb2519061c",
   "metadata": {},
   "source": [
    "**n_neighbors**"
   ]
  },
  {
   "cell_type": "code",
   "execution_count": 105,
   "id": "d6d9300c-56af-4920-a52d-1e09acf3e32a",
   "metadata": {},
   "outputs": [
    {
     "data": {
      "text/html": [
       "<div>\n",
       "<style scoped>\n",
       "    .dataframe tbody tr th:only-of-type {\n",
       "        vertical-align: middle;\n",
       "    }\n",
       "\n",
       "    .dataframe tbody tr th {\n",
       "        vertical-align: top;\n",
       "    }\n",
       "\n",
       "    .dataframe thead th {\n",
       "        text-align: right;\n",
       "    }\n",
       "</style>\n",
       "<table border=\"1\" class=\"dataframe\">\n",
       "  <thead>\n",
       "    <tr style=\"text-align: right;\">\n",
       "      <th></th>\n",
       "      <th>K = 1</th>\n",
       "      <th>K = 2</th>\n",
       "      <th>K = 3</th>\n",
       "      <th>K = 4</th>\n",
       "      <th>K = 5</th>\n",
       "      <th>K = 6</th>\n",
       "      <th>K = 7</th>\n",
       "      <th>K = 8</th>\n",
       "      <th>K = 9</th>\n",
       "      <th>K = 10</th>\n",
       "      <th>...</th>\n",
       "      <th>K = 275</th>\n",
       "      <th>K = 276</th>\n",
       "      <th>K = 277</th>\n",
       "      <th>K = 278</th>\n",
       "      <th>K = 279</th>\n",
       "      <th>K = 280</th>\n",
       "      <th>K = 281</th>\n",
       "      <th>K = 282</th>\n",
       "      <th>K = 283</th>\n",
       "      <th>K = 284</th>\n",
       "    </tr>\n",
       "  </thead>\n",
       "  <tbody>\n",
       "    <tr>\n",
       "      <th>Test Score</th>\n",
       "      <td>0.900402</td>\n",
       "      <td>0.909237</td>\n",
       "      <td>0.897992</td>\n",
       "      <td>0.898795</td>\n",
       "      <td>0.902008</td>\n",
       "      <td>0.902008</td>\n",
       "      <td>0.904418</td>\n",
       "      <td>0.900402</td>\n",
       "      <td>0.903614</td>\n",
       "      <td>0.902811</td>\n",
       "      <td>...</td>\n",
       "      <td>0.897992</td>\n",
       "      <td>0.897992</td>\n",
       "      <td>0.897992</td>\n",
       "      <td>0.897992</td>\n",
       "      <td>0.897992</td>\n",
       "      <td>0.897992</td>\n",
       "      <td>0.897992</td>\n",
       "      <td>0.897992</td>\n",
       "      <td>0.897992</td>\n",
       "      <td>0.897992</td>\n",
       "    </tr>\n",
       "    <tr>\n",
       "      <th>Train Score</th>\n",
       "      <td>0.906560</td>\n",
       "      <td>0.915663</td>\n",
       "      <td>0.912985</td>\n",
       "      <td>0.912718</td>\n",
       "      <td>0.904685</td>\n",
       "      <td>0.909505</td>\n",
       "      <td>0.906560</td>\n",
       "      <td>0.912182</td>\n",
       "      <td>0.911111</td>\n",
       "      <td>0.910308</td>\n",
       "      <td>...</td>\n",
       "      <td>0.905489</td>\n",
       "      <td>0.905489</td>\n",
       "      <td>0.905489</td>\n",
       "      <td>0.905489</td>\n",
       "      <td>0.905489</td>\n",
       "      <td>0.905489</td>\n",
       "      <td>0.905489</td>\n",
       "      <td>0.905489</td>\n",
       "      <td>0.905489</td>\n",
       "      <td>0.905489</td>\n",
       "    </tr>\n",
       "  </tbody>\n",
       "</table>\n",
       "<p>2 rows × 284 columns</p>\n",
       "</div>"
      ],
      "text/plain": [
       "                K = 1     K = 2     K = 3     K = 4     K = 5     K = 6  \\\n",
       "Test Score   0.900402  0.909237  0.897992  0.898795  0.902008  0.902008   \n",
       "Train Score  0.906560  0.915663  0.912985  0.912718  0.904685  0.909505   \n",
       "\n",
       "                K = 7     K = 8     K = 9    K = 10  ...   K = 275   K = 276  \\\n",
       "Test Score   0.904418  0.900402  0.903614  0.902811  ...  0.897992  0.897992   \n",
       "Train Score  0.906560  0.912182  0.911111  0.910308  ...  0.905489  0.905489   \n",
       "\n",
       "              K = 277   K = 278   K = 279   K = 280   K = 281   K = 282  \\\n",
       "Test Score   0.897992  0.897992  0.897992  0.897992  0.897992  0.897992   \n",
       "Train Score  0.905489  0.905489  0.905489  0.905489  0.905489  0.905489   \n",
       "\n",
       "              K = 283   K = 284  \n",
       "Test Score   0.897992  0.897992  \n",
       "Train Score  0.905489  0.905489  \n",
       "\n",
       "[2 rows x 284 columns]"
      ]
     },
     "execution_count": 105,
     "metadata": {},
     "output_type": "execute_result"
    }
   ],
   "source": [
    "#KNN algorith implementation with different n_neighbors \n",
    "k_list = list(np.arange(1,285))\n",
    "test_score_dict = {}\n",
    "train_score_dict = {}\n",
    "\n",
    "for k in k_list:\n",
    "    train_score,test_score = knn_model(n_neighbors = k)\n",
    "    train_score_dict[k] = (train_score)\n",
    "    test_score_dict[k] = (test_score)\n",
    "    \n",
    "df_result = prepare_dataframe(test_score_dict,train_score_dict,\"K = \",k_list)\n",
    "df_result"
   ]
  },
  {
   "cell_type": "code",
   "execution_count": 106,
   "id": "02d13f93-2091-4864-b894-9729ecc07f1e",
   "metadata": {},
   "outputs": [
    {
     "data": {
      "image/png": "[encoded data removed]",
      "text/plain": [
       "<Figure size 2000x500 with 2 Axes>"
      ]
     },
     "metadata": {},
     "output_type": "display_data"
    }
   ],
   "source": [
    "#Plot score of different k values for test and train datas\n",
    "plt.figure(figsize = (20,5))\n",
    "plt.subplot(1,2,1)\n",
    "plt.plot(k_list,list(train_score_dict.values()))\n",
    "plt.xlabel(\"K Value\")\n",
    "plt.ylabel(\"Train Score\")\n",
    "\n",
    "plt.subplot(1,2,2)\n",
    "plt.plot(k_list,list(test_score_dict.values()))\n",
    "plt.xlabel(\"K Value\")\n",
    "plt.ylabel(\"Test Score\")\n",
    "plt.show()"
   ]
  },
  {
   "cell_type": "code",
   "execution_count": 107,
   "id": "c5ee2ff6-5fb7-4596-b73f-49f9a5e5d6ef",
   "metadata": {},
   "outputs": [],
   "source": [
    "#Results stored in dictionaries\n",
    "result_train[\"K-Best-Train\"] = np.asarray(list(train_score_dict.values())).max()\n",
    "result_test[\"K-Best-Test\"] = np.asarray(list(test_score_dict.values())).max()"
   ]
  },
  {
   "cell_type": "markdown",
   "id": "8564ec5c-85ac-4945-999f-fbbcdb7cab68",
   "metadata": {},
   "source": [
    "**weights**"
   ]
  },
  {
   "cell_type": "code",
   "execution_count": 108,
   "id": "49a05db1-e2c9-4fee-b329-ff5d09fcdd98",
   "metadata": {},
   "outputs": [
    {
     "data": {
      "text/html": [
       "<div>\n",
       "<style scoped>\n",
       "    .dataframe tbody tr th:only-of-type {\n",
       "        vertical-align: middle;\n",
       "    }\n",
       "\n",
       "    .dataframe tbody tr th {\n",
       "        vertical-align: top;\n",
       "    }\n",
       "\n",
       "    .dataframe thead th {\n",
       "        text-align: right;\n",
       "    }\n",
       "</style>\n",
       "<table border=\"1\" class=\"dataframe\">\n",
       "  <thead>\n",
       "    <tr style=\"text-align: right;\">\n",
       "      <th></th>\n",
       "      <th>Weight = uniform</th>\n",
       "      <th>Weight = distance</th>\n",
       "    </tr>\n",
       "  </thead>\n",
       "  <tbody>\n",
       "    <tr>\n",
       "      <th>Test Score</th>\n",
       "      <td>0.902008</td>\n",
       "      <td>0.901205</td>\n",
       "    </tr>\n",
       "    <tr>\n",
       "      <th>Train Score</th>\n",
       "      <td>0.904685</td>\n",
       "      <td>0.910308</td>\n",
       "    </tr>\n",
       "  </tbody>\n",
       "</table>\n",
       "</div>"
      ],
      "text/plain": [
       "             Weight = uniform  Weight = distance\n",
       "Test Score           0.902008           0.901205\n",
       "Train Score          0.904685           0.910308"
      ]
     },
     "execution_count": 108,
     "metadata": {},
     "output_type": "execute_result"
    }
   ],
   "source": [
    "#KNN algorith implementation with different weights \n",
    "w_list = ['uniform','distance']\n",
    "\n",
    "test_score_dict = {}\n",
    "train_score_dict = {}\n",
    "\n",
    "for w in w_list:\n",
    "    train_score,test_score = knn_model(weights = w)\n",
    "    train_score_dict[w] = (train_score)\n",
    "    test_score_dict[w] = (test_score)\n",
    "\n",
    "prepare_dataframe(test_score_dict,train_score_dict,\"Weight = \",w_list)"
   ]
  },
  {
   "cell_type": "code",
   "execution_count": 109,
   "id": "4199a509-11d1-4954-befb-71e4aaf51483",
   "metadata": {},
   "outputs": [],
   "source": [
    "#Results stored in dictionaries\n",
    "result_train[\"Weight-Best-Train\"] = np.asarray(list(train_score_dict.values())).max()\n",
    "result_test[\"Weight-Best-Test\"] = np.asarray(list(test_score_dict.values())).max()"
   ]
  },
  {
   "cell_type": "markdown",
   "id": "f61af8dc-0fd5-4be4-b6c6-a34a9b40e381",
   "metadata": {},
   "source": [
    "**algorithm**"
   ]
  },
  {
   "cell_type": "code",
   "execution_count": 111,
   "id": "b0cabdd7-2072-4c79-92fb-0f60dd3c9cc8",
   "metadata": {},
   "outputs": [
    {
     "data": {
      "text/html": [
       "<div>\n",
       "<style scoped>\n",
       "    .dataframe tbody tr th:only-of-type {\n",
       "        vertical-align: middle;\n",
       "    }\n",
       "\n",
       "    .dataframe tbody tr th {\n",
       "        vertical-align: top;\n",
       "    }\n",
       "\n",
       "    .dataframe thead th {\n",
       "        text-align: right;\n",
       "    }\n",
       "</style>\n",
       "<table border=\"1\" class=\"dataframe\">\n",
       "  <thead>\n",
       "    <tr style=\"text-align: right;\">\n",
       "      <th></th>\n",
       "      <th>Algorithm = auto</th>\n",
       "      <th>Algorithm = ball_tree</th>\n",
       "      <th>Algorithm = kd_tree</th>\n",
       "      <th>Algorithm = brute</th>\n",
       "    </tr>\n",
       "  </thead>\n",
       "  <tbody>\n",
       "    <tr>\n",
       "      <th>Test Score</th>\n",
       "      <td>0.902008</td>\n",
       "      <td>0.902008</td>\n",
       "      <td>0.902008</td>\n",
       "      <td>0.902008</td>\n",
       "    </tr>\n",
       "    <tr>\n",
       "      <th>Train Score</th>\n",
       "      <td>0.904685</td>\n",
       "      <td>0.904685</td>\n",
       "      <td>0.904685</td>\n",
       "      <td>0.904685</td>\n",
       "    </tr>\n",
       "  </tbody>\n",
       "</table>\n",
       "</div>"
      ],
      "text/plain": [
       "             Algorithm = auto  Algorithm = ball_tree  Algorithm = kd_tree  \\\n",
       "Test Score           0.902008               0.902008             0.902008   \n",
       "Train Score          0.904685               0.904685             0.904685   \n",
       "\n",
       "             Algorithm = brute  \n",
       "Test Score            0.902008  \n",
       "Train Score           0.904685  "
      ]
     },
     "execution_count": 111,
     "metadata": {},
     "output_type": "execute_result"
    }
   ],
   "source": [
    "#KNN algorith implementation with different algorithm\n",
    "a_list = ['auto','ball_tree','kd_tree','brute']\n",
    "\n",
    "test_score_dict = {}\n",
    "train_score_dict = {}\n",
    "\n",
    "for a in a_list:\n",
    "    train_score,test_score = knn_model(algorithm = a)\n",
    "    train_score_dict[a] = (train_score)\n",
    "    test_score_dict[a] = (test_score)\n",
    "\n",
    "prepare_dataframe(test_score_dict,train_score_dict,\"Algorithm = \",a_list)"
   ]
  },
  {
   "cell_type": "code",
   "execution_count": 112,
   "id": "efcbf398-36a4-46cb-a3c3-ac7a6d890b86",
   "metadata": {},
   "outputs": [],
   "source": [
    "#Results stored in dictionaries\n",
    "result_train[\"Algorithm-Best-Train\"] = np.asarray(list(train_score_dict.values())).max()\n",
    "result_test[\"Algorithm-Best-Test\"] = np.asarray(list(test_score_dict.values())).max()"
   ]
  },
  {
   "cell_type": "markdown",
   "id": "cbfbeea9-a0d5-4744-abe2-a8761b8012ab",
   "metadata": {},
   "source": [
    "**p-value**"
   ]
  },
  {
   "cell_type": "markdown",
   "id": "83ae90e1-2d59-4fe2-bc39-ff0ffc4c638d",
   "metadata": {},
   "source": [
    "<br>If p = 1, this is equivalent to using manhattan_distance(l_1)\n",
    "<br>\n",
    "If p = 2, this is equivalent to using euclidean_distance(l_2)<br>\n",
    "If p > 2, It is minkowski distance(l_p)."
   ]
  },
  {
   "cell_type": "code",
   "execution_count": 113,
   "id": "73ceb7c6-8fc2-44fc-8fdb-2d122f69d12b",
   "metadata": {},
   "outputs": [
    {
     "data": {
      "text/html": [
       "<div>\n",
       "<style scoped>\n",
       "    .dataframe tbody tr th:only-of-type {\n",
       "        vertical-align: middle;\n",
       "    }\n",
       "\n",
       "    .dataframe tbody tr th {\n",
       "        vertical-align: top;\n",
       "    }\n",
       "\n",
       "    .dataframe thead th {\n",
       "        text-align: right;\n",
       "    }\n",
       "</style>\n",
       "<table border=\"1\" class=\"dataframe\">\n",
       "  <thead>\n",
       "    <tr style=\"text-align: right;\">\n",
       "      <th></th>\n",
       "      <th>P = 1</th>\n",
       "      <th>P = 2</th>\n",
       "      <th>P = 3</th>\n",
       "      <th>P = 4</th>\n",
       "      <th>P = 5</th>\n",
       "      <th>P = 6</th>\n",
       "      <th>P = 7</th>\n",
       "      <th>P = 8</th>\n",
       "      <th>P = 9</th>\n",
       "      <th>P = 10</th>\n",
       "    </tr>\n",
       "  </thead>\n",
       "  <tbody>\n",
       "    <tr>\n",
       "      <th>Test Score</th>\n",
       "      <td>0.914859</td>\n",
       "      <td>0.902008</td>\n",
       "      <td>0.888353</td>\n",
       "      <td>0.887550</td>\n",
       "      <td>0.889960</td>\n",
       "      <td>0.889960</td>\n",
       "      <td>0.889157</td>\n",
       "      <td>0.88996</td>\n",
       "      <td>0.889157</td>\n",
       "      <td>0.889157</td>\n",
       "    </tr>\n",
       "    <tr>\n",
       "      <th>Train Score</th>\n",
       "      <td>0.922088</td>\n",
       "      <td>0.904685</td>\n",
       "      <td>0.901205</td>\n",
       "      <td>0.900669</td>\n",
       "      <td>0.900134</td>\n",
       "      <td>0.899598</td>\n",
       "      <td>0.898795</td>\n",
       "      <td>0.89826</td>\n",
       "      <td>0.897992</td>\n",
       "      <td>0.897456</td>\n",
       "    </tr>\n",
       "  </tbody>\n",
       "</table>\n",
       "</div>"
      ],
      "text/plain": [
       "                P = 1     P = 2     P = 3     P = 4     P = 5     P = 6  \\\n",
       "Test Score   0.914859  0.902008  0.888353  0.887550  0.889960  0.889960   \n",
       "Train Score  0.922088  0.904685  0.901205  0.900669  0.900134  0.899598   \n",
       "\n",
       "                P = 7    P = 8     P = 9    P = 10  \n",
       "Test Score   0.889157  0.88996  0.889157  0.889157  \n",
       "Train Score  0.898795  0.89826  0.897992  0.897456  "
      ]
     },
     "execution_count": 113,
     "metadata": {},
     "output_type": "execute_result"
    }
   ],
   "source": [
    "#KNN algorith implementation with different p\n",
    "p_list = list(np.arange(1,11))\n",
    "\n",
    "\n",
    "test_score_dict = {}\n",
    "train_score_dict = {}\n",
    "\n",
    "for p in p_list:\n",
    "    train_score,test_score = knn_model(p = p)\n",
    "    train_score_dict[p] = (train_score)\n",
    "    test_score_dict[p] = (test_score)\n",
    "\n",
    "prepare_dataframe(test_score_dict,train_score_dict,\"P = \",p_list)"
   ]
  },
  {
   "cell_type": "code",
   "execution_count": 114,
   "id": "833b218f-23c3-4e4c-82ab-23aaa0b5b019",
   "metadata": {},
   "outputs": [
    {
     "data": {
      "image/png": "[encoded data removed]",
      "text/plain": [
       "<Figure size 2000x500 with 2 Axes>"
      ]
     },
     "metadata": {},
     "output_type": "display_data"
    }
   ],
   "source": [
    "plt.figure(figsize = (20,5))\n",
    "plt.subplot(1,2,1)\n",
    "plt.plot(p_list,list(train_score_dict.values()))\n",
    "plt.xlabel(\"P Value\")\n",
    "plt.ylabel(\"Train Score\")\n",
    "\n",
    "plt.subplot(1,2,2)\n",
    "plt.plot(p_list,list(test_score_dict.values()))\n",
    "plt.xlabel(\"P Value\")\n",
    "plt.ylabel(\"Test Score\")\n",
    "plt.show()"
   ]
  },
  {
   "cell_type": "code",
   "execution_count": 115,
   "id": "9d165b63-4e62-437a-87a6-c52e69a623d6",
   "metadata": {},
   "outputs": [],
   "source": [
    "#Results stored in dictionaries\n",
    "result_train[\"P-Best-Train\"] = np.asarray(list(train_score_dict.values())).max()\n",
    "result_test[\"P-Best-Test\"] = np.asarray(list(test_score_dict.values())).max()"
   ]
  },
  {
   "cell_type": "markdown",
   "id": "fa6f7e0e-64a5-4549-98aa-8a1e6e919798",
   "metadata": {},
   "source": [
    "**GridSearch**"
   ]
  },
  {
   "cell_type": "code",
   "execution_count": 117,
   "id": "b7dcfdec-e288-4681-b9df-ee5bc1816cd2",
   "metadata": {},
   "outputs": [
    {
     "name": "stdout",
     "output_type": "stream",
     "text": [
      "Hyperparameters: {'algorithm': 'auto', 'n_neighbors': 4, 'p': 1, 'weights': 'distance'}\n",
      "Train Score: 0.9285140562248996\n"
     ]
    }
   ],
   "source": [
    "#Implementation of GridSearch\n",
    "grid = {'n_neighbors':np.arange(1,235),\n",
    "        'p':np.arange(1,3),\n",
    "        'weights':['uniform','distance'],\n",
    "        'algorithm':['auto','ball_tree','kd_tree','brute']\n",
    "       }\n",
    "knn = KNeighborsClassifier()\n",
    "knn_cv = GridSearchCV(knn,grid,cv=3)\n",
    "knn_cv.fit(x_train,y_train)\n",
    "\n",
    "print(\"Hyperparameters:\",knn_cv.best_params_)\n",
    "print(\"Train Score:\",knn_cv.best_score_)\n",
    "result_train[\"GridSearch-Best-Train\"] = knn_cv.best_score_"
   ]
  },
  {
   "cell_type": "code",
   "execution_count": 120,
   "id": "44030758-a0f4-4992-ae60-d826fcef1941",
   "metadata": {},
   "outputs": [
    {
     "name": "stdout",
     "output_type": "stream",
     "text": [
      "Test Score: 0.9180722891566265\n"
     ]
    }
   ],
   "source": [
    "#Results stored in dictionaries\n",
    "result_test[\"GridSearch-Best-Test\"] = knn_cv.score(x_test,y_test)\n",
    "print(\"Test Score:\",knn_cv.score(x_test,y_test))"
   ]
  },
  {
   "cell_type": "markdown",
   "id": "dee0bbcb-702c-46e9-983e-47e8381eee90",
   "metadata": {},
   "source": [
    "**Conclusion**"
   ]
  },
  {
   "cell_type": "code",
   "execution_count": 121,
   "id": "f21685c6-1d1c-4556-80b7-7ff50a49cace",
   "metadata": {},
   "outputs": [
    {
     "data": {
      "text/html": [
       "<div>\n",
       "<style scoped>\n",
       "    .dataframe tbody tr th:only-of-type {\n",
       "        vertical-align: middle;\n",
       "    }\n",
       "\n",
       "    .dataframe tbody tr th {\n",
       "        vertical-align: top;\n",
       "    }\n",
       "\n",
       "    .dataframe thead th {\n",
       "        text-align: right;\n",
       "    }\n",
       "</style>\n",
       "<table border=\"1\" class=\"dataframe\">\n",
       "  <thead>\n",
       "    <tr style=\"text-align: right;\">\n",
       "      <th></th>\n",
       "      <th>Default</th>\n",
       "      <th>K-Best</th>\n",
       "      <th>Weight-Best</th>\n",
       "      <th>Algorithm-Best</th>\n",
       "      <th>P-Best</th>\n",
       "      <th>GridSearchCV</th>\n",
       "    </tr>\n",
       "  </thead>\n",
       "  <tbody>\n",
       "    <tr>\n",
       "      <th>Test Score</th>\n",
       "      <td>0.902008</td>\n",
       "      <td>0.909237</td>\n",
       "      <td>0.902008</td>\n",
       "      <td>0.902008</td>\n",
       "      <td>0.914859</td>\n",
       "      <td>0.918072</td>\n",
       "    </tr>\n",
       "    <tr>\n",
       "      <th>Train Score</th>\n",
       "      <td>0.904685</td>\n",
       "      <td>0.915663</td>\n",
       "      <td>0.910308</td>\n",
       "      <td>0.904685</td>\n",
       "      <td>0.922088</td>\n",
       "      <td>0.928514</td>\n",
       "    </tr>\n",
       "  </tbody>\n",
       "</table>\n",
       "</div>"
      ],
      "text/plain": [
       "              Default    K-Best  Weight-Best  Algorithm-Best    P-Best  \\\n",
       "Test Score   0.902008  0.909237     0.902008        0.902008  0.914859   \n",
       "Train Score  0.904685  0.915663     0.910308        0.904685  0.922088   \n",
       "\n",
       "             GridSearchCV  \n",
       "Test Score       0.918072  \n",
       "Train Score      0.928514  "
      ]
     },
     "execution_count": 121,
     "metadata": {},
     "output_type": "execute_result"
    }
   ],
   "source": [
    "#Result dataframe\n",
    "columns = [\"Default\",\"K-Best\",\"Weight-Best\",\"Algorithm-Best\",\"P-Best\",\"GridSearchCV\"]\n",
    "prepare_dataframe(result_test,result_train,\"\",columns)"
   ]
  },
  {
   "cell_type": "code",
   "execution_count": 125,
   "id": "b3b185fd-57fe-49f6-bdfd-9c3e6b65e392",
   "metadata": {},
   "outputs": [
    {
     "data": {
      "image/png": "[encoded data removed]",
      "text/plain": [
       "<Figure size 1200x500 with 1 Axes>"
      ]
     },
     "metadata": {},
     "output_type": "display_data"
    }
   ],
   "source": [
    "#Bar plot for showing result of parameters both train and test datas\n",
    "plt.figure(figsize = (12,5))\n",
    "X = np.arange(len(result_train))\n",
    "ax = plt.subplot(111)\n",
    "ax.bar(X, result_train.values(), width=0.2,  align='center')\n",
    "ax.bar(X-0.2, result_test.values(), width=0.2,  align='center')\n",
    "ax.legend(('Train Results','Test Results'))\n",
    "plt.xticks(X, columns)\n",
    "plt.title(\"Comparing Results of Parameters\", fontsize=17)\n",
    "plt.show()"
   ]
  },
  {
   "cell_type": "markdown",
   "id": "5f3f20c6-c4d9-4cd5-b6ca-dd5c7e537f1c",
   "metadata": {},
   "source": [
    "We were able to boost the model score to ~92% on test data with GridSerachCV hyperparamter tuning for KNN. And so far that's the best score we have."
   ]
  },
  {
   "cell_type": "markdown",
   "id": "548fb8bc-6d1d-4b55-9c72-a24f3d252def",
   "metadata": {},
   "source": [
    "**Tuning SVM**"
   ]
  },
  {
   "cell_type": "markdown",
   "id": "40dc0e71-2c03-4e08-bffe-6a6bb50d1e34",
   "metadata": {},
   "source": [
    "**With default parameter**"
   ]
  },
  {
   "cell_type": "code",
   "execution_count": 126,
   "id": "39215407-03ab-4b03-a19d-d90dd7b3e91c",
   "metadata": {},
   "outputs": [
    {
     "name": "stdout",
     "output_type": "stream",
     "text": [
      "Train Score of Default Parameters: 0.9078982597054885\n",
      "Test Score of Default Parameters: 0.9028112449799197\n"
     ]
    }
   ],
   "source": [
    "svc = SVC()\n",
    "accuracies = cross_val_score(estimator=svc, X = x_train, y = y_train, cv = 3)\n",
    "train_score = np.mean(accuracies)\n",
    "    \n",
    "svc.fit(x_train,y_train)\n",
    "test_score = svc.score(x_test,y_test)\n",
    "\n",
    "print(\"Train Score of Default Parameters:\",train_score)\n",
    "print(\"Test Score of Default Parameters:\",test_score)"
   ]
  },
  {
   "cell_type": "markdown",
   "id": "2c79c85d-2122-47d6-b44e-185002d14aa4",
   "metadata": {},
   "source": [
    "**Tuning SVM with different parameters**"
   ]
  },
  {
   "cell_type": "markdown",
   "id": "26cae100-c628-4a65-8563-1a82d62ce923",
   "metadata": {},
   "source": [
    "**Regularization Parameter (C)**"
   ]
  },
  {
   "cell_type": "markdown",
   "id": "e030e655-fad9-41ff-9ddc-0dc6c64dd2f8",
   "metadata": {},
   "source": [
    "We can say that the goal of the SVM algorithn is low misclassification and large margin. But this two goals are contradictory. Actually, C parameter can be used to provides the balance between these goals.\n",
    "\n",
    "<br>-If we choose large value for C, we get small margin but lower misclassification\n",
    "<br>-If we choose small value for C, we get large margin but high misclassification compared to large C value."
   ]
  },
  {
   "cell_type": "markdown",
   "id": "d52589bf-fbc9-4c23-8857-71cfeb776d31",
   "metadata": {},
   "source": [
    "When training an SVM with the Radial Basis Function (RBF) kernel, two parameters must be considered: C and gamma. The parameter C, common to all SVM kernels, trades off misclassification of training examples against simplicity of the decision surface. A low C makes the decision surface smooth, while a high C aims at classifying all training examples correctly. gamma defines how much influence a single training example has. The larger gamma is, the closer other examples must be to be affected."
   ]
  },
  {
   "cell_type": "code",
   "execution_count": 138,
   "id": "e491b04d-520e-47f7-80cb-06ba84d7555c",
   "metadata": {},
   "outputs": [
    {
     "data": {
      "text/html": [
       "<style>#sk-container-id-1 {\n",
       "  /* Definition of color scheme common for light and dark mode */\n",
       "  --sklearn-color-text: black;\n",
       "  --sklearn-color-line: gray;\n",
       "  /* Definition of color scheme for unfitted estimators */\n",
       "  --sklearn-color-unfitted-level-0: #fff5e6;\n",
       "  --sklearn-color-unfitted-level-1: #f6e4d2;\n",
       "  --sklearn-color-unfitted-level-2: #ffe0b3;\n",
       "  --sklearn-color-unfitted-level-3: chocolate;\n",
       "  /* Definition of color scheme for fitted estimators */\n",
       "  --sklearn-color-fitted-level-0: #f0f8ff;\n",
       "  --sklearn-color-fitted-level-1: #d4ebff;\n",
       "  --sklearn-color-fitted-level-2: #b3dbfd;\n",
       "  --sklearn-color-fitted-level-3: cornflowerblue;\n",
       "\n",
       "  /* Specific color for light theme */\n",
       "  --sklearn-color-text-on-default-background: var(--sg-text-color, var(--theme-code-foreground, var(--jp-content-font-color1, black)));\n",
       "  --sklearn-color-background: var(--sg-background-color, var(--theme-background, var(--jp-layout-color0, white)));\n",
       "  --sklearn-color-border-box: var(--sg-text-color, var(--theme-code-foreground, var(--jp-content-font-color1, black)));\n",
       "  --sklearn-color-icon: #696969;\n",
       "\n",
       "  @media (prefers-color-scheme: dark) {\n",
       "    /* Redefinition of color scheme for dark theme */\n",
       "    --sklearn-color-text-on-default-background: var(--sg-text-color, var(--theme-code-foreground, var(--jp-content-font-color1, white)));\n",
       "    --sklearn-color-background: var(--sg-background-color, var(--theme-background, var(--jp-layout-color0, #111)));\n",
       "    --sklearn-color-border-box: var(--sg-text-color, var(--theme-code-foreground, var(--jp-content-font-color1, white)));\n",
       "    --sklearn-color-icon: #878787;\n",
       "  }\n",
       "}\n",
       "\n",
       "#sk-container-id-1 {\n",
       "  color: var(--sklearn-color-text);\n",
       "}\n",
       "\n",
       "#sk-container-id-1 pre {\n",
       "  padding: 0;\n",
       "}\n",
       "\n",
       "#sk-container-id-1 input.sk-hidden--visually {\n",
       "  border: 0;\n",
       "  clip: rect(1px 1px 1px 1px);\n",
       "  clip: rect(1px, 1px, 1px, 1px);\n",
       "  height: 1px;\n",
       "  margin: -1px;\n",
       "  overflow: hidden;\n",
       "  padding: 0;\n",
       "  position: absolute;\n",
       "  width: 1px;\n",
       "}\n",
       "\n",
       "#sk-container-id-1 div.sk-dashed-wrapped {\n",
       "  border: 1px dashed var(--sklearn-color-line);\n",
       "  margin: 0 0.4em 0.5em 0.4em;\n",
       "  box-sizing: border-box;\n",
       "  padding-bottom: 0.4em;\n",
       "  background-color: var(--sklearn-color-background);\n",
       "}\n",
       "\n",
       "#sk-container-id-1 div.sk-container {\n",
       "  /* jupyter's `normalize.less` sets `[hidden] { display: none; }`\n",
       "     but bootstrap.min.css set `[hidden] { display: none !important; }`\n",
       "     so we also need the `!important` here to be able to override the\n",
       "     default hidden behavior on the sphinx rendered scikit-learn.org.\n",
       "     See: https://github.com/scikit-learn/scikit-learn/issues/21755 */\n",
       "  display: inline-block !important;\n",
       "  position: relative;\n",
       "}\n",
       "\n",
       "#sk-container-id-1 div.sk-text-repr-fallback {\n",
       "  display: none;\n",
       "}\n",
       "\n",
       "div.sk-parallel-item,\n",
       "div.sk-serial,\n",
       "div.sk-item {\n",
       "  /* draw centered vertical line to link estimators */\n",
       "  background-image: linear-gradient(var(--sklearn-color-text-on-default-background), var(--sklearn-color-text-on-default-background));\n",
       "  background-size: 2px 100%;\n",
       "  background-repeat: no-repeat;\n",
       "  background-position: center center;\n",
       "}\n",
       "\n",
       "/* Parallel-specific style estimator block */\n",
       "\n",
       "#sk-container-id-1 div.sk-parallel-item::after {\n",
       "  content: \"\";\n",
       "  width: 100%;\n",
       "  border-bottom: 2px solid var(--sklearn-color-text-on-default-background);\n",
       "  flex-grow: 1;\n",
       "}\n",
       "\n",
       "#sk-container-id-1 div.sk-parallel {\n",
       "  display: flex;\n",
       "  align-items: stretch;\n",
       "  justify-content: center;\n",
       "  background-color: var(--sklearn-color-background);\n",
       "  position: relative;\n",
       "}\n",
       "\n",
       "#sk-container-id-1 div.sk-parallel-item {\n",
       "  display: flex;\n",
       "  flex-direction: column;\n",
       "}\n",
       "\n",
       "#sk-container-id-1 div.sk-parallel-item:first-child::after {\n",
       "  align-self: flex-end;\n",
       "  width: 50%;\n",
       "}\n",
       "\n",
       "#sk-container-id-1 div.sk-parallel-item:last-child::after {\n",
       "  align-self: flex-start;\n",
       "  width: 50%;\n",
       "}\n",
       "\n",
       "#sk-container-id-1 div.sk-parallel-item:only-child::after {\n",
       "  width: 0;\n",
       "}\n",
       "\n",
       "/* Serial-specific style estimator block */\n",
       "\n",
       "#sk-container-id-1 div.sk-serial {\n",
       "  display: flex;\n",
       "  flex-direction: column;\n",
       "  align-items: center;\n",
       "  background-color: var(--sklearn-color-background);\n",
       "  padding-right: 1em;\n",
       "  padding-left: 1em;\n",
       "}\n",
       "\n",
       "\n",
       "/* Toggleable style: style used for estimator/Pipeline/ColumnTransformer box that is\n",
       "clickable and can be expanded/collapsed.\n",
       "- Pipeline and ColumnTransformer use this feature and define the default style\n",
       "- Estimators will overwrite some part of the style using the `sk-estimator` class\n",
       "*/\n",
       "\n",
       "/* Pipeline and ColumnTransformer style (default) */\n",
       "\n",
       "#sk-container-id-1 div.sk-toggleable {\n",
       "  /* Default theme specific background. It is overwritten whether we have a\n",
       "  specific estimator or a Pipeline/ColumnTransformer */\n",
       "  background-color: var(--sklearn-color-background);\n",
       "}\n",
       "\n",
       "/* Toggleable label */\n",
       "#sk-container-id-1 label.sk-toggleable__label {\n",
       "  cursor: pointer;\n",
       "  display: block;\n",
       "  width: 100%;\n",
       "  margin-bottom: 0;\n",
       "  padding: 0.5em;\n",
       "  box-sizing: border-box;\n",
       "  text-align: center;\n",
       "}\n",
       "\n",
       "#sk-container-id-1 label.sk-toggleable__label-arrow:before {\n",
       "  /* Arrow on the left of the label */\n",
       "  content: \"▸\";\n",
       "  float: left;\n",
       "  margin-right: 0.25em;\n",
       "  color: var(--sklearn-color-icon);\n",
       "}\n",
       "\n",
       "#sk-container-id-1 label.sk-toggleable__label-arrow:hover:before {\n",
       "  color: var(--sklearn-color-text);\n",
       "}\n",
       "\n",
       "/* Toggleable content - dropdown */\n",
       "\n",
       "#sk-container-id-1 div.sk-toggleable__content {\n",
       "  max-height: 0;\n",
       "  max-width: 0;\n",
       "  overflow: hidden;\n",
       "  text-align: left;\n",
       "  /* unfitted */\n",
       "  background-color: var(--sklearn-color-unfitted-level-0);\n",
       "}\n",
       "\n",
       "#sk-container-id-1 div.sk-toggleable__content.fitted {\n",
       "  /* fitted */\n",
       "  background-color: var(--sklearn-color-fitted-level-0);\n",
       "}\n",
       "\n",
       "#sk-container-id-1 div.sk-toggleable__content pre {\n",
       "  margin: 0.2em;\n",
       "  border-radius: 0.25em;\n",
       "  color: var(--sklearn-color-text);\n",
       "  /* unfitted */\n",
       "  background-color: var(--sklearn-color-unfitted-level-0);\n",
       "}\n",
       "\n",
       "#sk-container-id-1 div.sk-toggleable__content.fitted pre {\n",
       "  /* unfitted */\n",
       "  background-color: var(--sklearn-color-fitted-level-0);\n",
       "}\n",
       "\n",
       "#sk-container-id-1 input.sk-toggleable__control:checked~div.sk-toggleable__content {\n",
       "  /* Expand drop-down */\n",
       "  max-height: 200px;\n",
       "  max-width: 100%;\n",
       "  overflow: auto;\n",
       "}\n",
       "\n",
       "#sk-container-id-1 input.sk-toggleable__control:checked~label.sk-toggleable__label-arrow:before {\n",
       "  content: \"▾\";\n",
       "}\n",
       "\n",
       "/* Pipeline/ColumnTransformer-specific style */\n",
       "\n",
       "#sk-container-id-1 div.sk-label input.sk-toggleable__control:checked~label.sk-toggleable__label {\n",
       "  color: var(--sklearn-color-text);\n",
       "  background-color: var(--sklearn-color-unfitted-level-2);\n",
       "}\n",
       "\n",
       "#sk-container-id-1 div.sk-label.fitted input.sk-toggleable__control:checked~label.sk-toggleable__label {\n",
       "  background-color: var(--sklearn-color-fitted-level-2);\n",
       "}\n",
       "\n",
       "/* Estimator-specific style */\n",
       "\n",
       "/* Colorize estimator box */\n",
       "#sk-container-id-1 div.sk-estimator input.sk-toggleable__control:checked~label.sk-toggleable__label {\n",
       "  /* unfitted */\n",
       "  background-color: var(--sklearn-color-unfitted-level-2);\n",
       "}\n",
       "\n",
       "#sk-container-id-1 div.sk-estimator.fitted input.sk-toggleable__control:checked~label.sk-toggleable__label {\n",
       "  /* fitted */\n",
       "  background-color: var(--sklearn-color-fitted-level-2);\n",
       "}\n",
       "\n",
       "#sk-container-id-1 div.sk-label label.sk-toggleable__label,\n",
       "#sk-container-id-1 div.sk-label label {\n",
       "  /* The background is the default theme color */\n",
       "  color: var(--sklearn-color-text-on-default-background);\n",
       "}\n",
       "\n",
       "/* On hover, darken the color of the background */\n",
       "#sk-container-id-1 div.sk-label:hover label.sk-toggleable__label {\n",
       "  color: var(--sklearn-color-text);\n",
       "  background-color: var(--sklearn-color-unfitted-level-2);\n",
       "}\n",
       "\n",
       "/* Label box, darken color on hover, fitted */\n",
       "#sk-container-id-1 div.sk-label.fitted:hover label.sk-toggleable__label.fitted {\n",
       "  color: var(--sklearn-color-text);\n",
       "  background-color: var(--sklearn-color-fitted-level-2);\n",
       "}\n",
       "\n",
       "/* Estimator label */\n",
       "\n",
       "#sk-container-id-1 div.sk-label label {\n",
       "  font-family: monospace;\n",
       "  font-weight: bold;\n",
       "  display: inline-block;\n",
       "  line-height: 1.2em;\n",
       "}\n",
       "\n",
       "#sk-container-id-1 div.sk-label-container {\n",
       "  text-align: center;\n",
       "}\n",
       "\n",
       "/* Estimator-specific */\n",
       "#sk-container-id-1 div.sk-estimator {\n",
       "  font-family: monospace;\n",
       "  border: 1px dotted var(--sklearn-color-border-box);\n",
       "  border-radius: 0.25em;\n",
       "  box-sizing: border-box;\n",
       "  margin-bottom: 0.5em;\n",
       "  /* unfitted */\n",
       "  background-color: var(--sklearn-color-unfitted-level-0);\n",
       "}\n",
       "\n",
       "#sk-container-id-1 div.sk-estimator.fitted {\n",
       "  /* fitted */\n",
       "  background-color: var(--sklearn-color-fitted-level-0);\n",
       "}\n",
       "\n",
       "/* on hover */\n",
       "#sk-container-id-1 div.sk-estimator:hover {\n",
       "  /* unfitted */\n",
       "  background-color: var(--sklearn-color-unfitted-level-2);\n",
       "}\n",
       "\n",
       "#sk-container-id-1 div.sk-estimator.fitted:hover {\n",
       "  /* fitted */\n",
       "  background-color: var(--sklearn-color-fitted-level-2);\n",
       "}\n",
       "\n",
       "/* Specification for estimator info (e.g. \"i\" and \"?\") */\n",
       "\n",
       "/* Common style for \"i\" and \"?\" */\n",
       "\n",
       ".sk-estimator-doc-link,\n",
       "a:link.sk-estimator-doc-link,\n",
       "a:visited.sk-estimator-doc-link {\n",
       "  float: right;\n",
       "  font-size: smaller;\n",
       "  line-height: 1em;\n",
       "  font-family: monospace;\n",
       "  background-color: var(--sklearn-color-background);\n",
       "  border-radius: 1em;\n",
       "  height: 1em;\n",
       "  width: 1em;\n",
       "  text-decoration: none !important;\n",
       "  margin-left: 1ex;\n",
       "  /* unfitted */\n",
       "  border: var(--sklearn-color-unfitted-level-1) 1pt solid;\n",
       "  color: var(--sklearn-color-unfitted-level-1);\n",
       "}\n",
       "\n",
       ".sk-estimator-doc-link.fitted,\n",
       "a:link.sk-estimator-doc-link.fitted,\n",
       "a:visited.sk-estimator-doc-link.fitted {\n",
       "  /* fitted */\n",
       "  border: var(--sklearn-color-fitted-level-1) 1pt solid;\n",
       "  color: var(--sklearn-color-fitted-level-1);\n",
       "}\n",
       "\n",
       "/* On hover */\n",
       "div.sk-estimator:hover .sk-estimator-doc-link:hover,\n",
       ".sk-estimator-doc-link:hover,\n",
       "div.sk-label-container:hover .sk-estimator-doc-link:hover,\n",
       ".sk-estimator-doc-link:hover {\n",
       "  /* unfitted */\n",
       "  background-color: var(--sklearn-color-unfitted-level-3);\n",
       "  color: var(--sklearn-color-background);\n",
       "  text-decoration: none;\n",
       "}\n",
       "\n",
       "div.sk-estimator.fitted:hover .sk-estimator-doc-link.fitted:hover,\n",
       ".sk-estimator-doc-link.fitted:hover,\n",
       "div.sk-label-container:hover .sk-estimator-doc-link.fitted:hover,\n",
       ".sk-estimator-doc-link.fitted:hover {\n",
       "  /* fitted */\n",
       "  background-color: var(--sklearn-color-fitted-level-3);\n",
       "  color: var(--sklearn-color-background);\n",
       "  text-decoration: none;\n",
       "}\n",
       "\n",
       "/* Span, style for the box shown on hovering the info icon */\n",
       ".sk-estimator-doc-link span {\n",
       "  display: none;\n",
       "  z-index: 9999;\n",
       "  position: relative;\n",
       "  font-weight: normal;\n",
       "  right: .2ex;\n",
       "  padding: .5ex;\n",
       "  margin: .5ex;\n",
       "  width: min-content;\n",
       "  min-width: 20ex;\n",
       "  max-width: 50ex;\n",
       "  color: var(--sklearn-color-text);\n",
       "  box-shadow: 2pt 2pt 4pt #999;\n",
       "  /* unfitted */\n",
       "  background: var(--sklearn-color-unfitted-level-0);\n",
       "  border: .5pt solid var(--sklearn-color-unfitted-level-3);\n",
       "}\n",
       "\n",
       ".sk-estimator-doc-link.fitted span {\n",
       "  /* fitted */\n",
       "  background: var(--sklearn-color-fitted-level-0);\n",
       "  border: var(--sklearn-color-fitted-level-3);\n",
       "}\n",
       "\n",
       ".sk-estimator-doc-link:hover span {\n",
       "  display: block;\n",
       "}\n",
       "\n",
       "/* \"?\"-specific style due to the `<a>` HTML tag */\n",
       "\n",
       "#sk-container-id-1 a.estimator_doc_link {\n",
       "  float: right;\n",
       "  font-size: 1rem;\n",
       "  line-height: 1em;\n",
       "  font-family: monospace;\n",
       "  background-color: var(--sklearn-color-background);\n",
       "  border-radius: 1rem;\n",
       "  height: 1rem;\n",
       "  width: 1rem;\n",
       "  text-decoration: none;\n",
       "  /* unfitted */\n",
       "  color: var(--sklearn-color-unfitted-level-1);\n",
       "  border: var(--sklearn-color-unfitted-level-1) 1pt solid;\n",
       "}\n",
       "\n",
       "#sk-container-id-1 a.estimator_doc_link.fitted {\n",
       "  /* fitted */\n",
       "  border: var(--sklearn-color-fitted-level-1) 1pt solid;\n",
       "  color: var(--sklearn-color-fitted-level-1);\n",
       "}\n",
       "\n",
       "/* On hover */\n",
       "#sk-container-id-1 a.estimator_doc_link:hover {\n",
       "  /* unfitted */\n",
       "  background-color: var(--sklearn-color-unfitted-level-3);\n",
       "  color: var(--sklearn-color-background);\n",
       "  text-decoration: none;\n",
       "}\n",
       "\n",
       "#sk-container-id-1 a.estimator_doc_link.fitted:hover {\n",
       "  /* fitted */\n",
       "  background-color: var(--sklearn-color-fitted-level-3);\n",
       "}\n",
       "</style><div id=\"sk-container-id-1\" class=\"sk-top-container\"><div class=\"sk-text-repr-fallback\"><pre>GridSearchCV(estimator=SVC(),\n",
       "             param_grid={&#x27;C&#x27;: [0.1, 1, 10, 100, 1000],\n",
       "                         &#x27;gamma&#x27;: [1, 0.1, 0.01, 0.001, 0.0001],\n",
       "                         &#x27;kernel&#x27;: [&#x27;rbf&#x27;, &#x27;linear&#x27;]})</pre><b>In a Jupyter environment, please rerun this cell to show the HTML representation or trust the notebook. <br />On GitHub, the HTML representation is unable to render, please try loading this page with nbviewer.org.</b></div><div class=\"sk-container\" hidden><div class=\"sk-item sk-dashed-wrapped\"><div class=\"sk-label-container\"><div class=\"sk-label fitted sk-toggleable\"><input class=\"sk-toggleable__control sk-hidden--visually\" id=\"sk-estimator-id-1\" type=\"checkbox\" ><label for=\"sk-estimator-id-1\" class=\"sk-toggleable__label fitted sk-toggleable__label-arrow fitted\">&nbsp;&nbsp;GridSearchCV<a class=\"sk-estimator-doc-link fitted\" rel=\"noreferrer\" target=\"_blank\" href=\"https://scikit-learn.org/1.4/modules/generated/sklearn.model_selection.GridSearchCV.html\">?<span>Documentation for GridSearchCV</span></a><span class=\"sk-estimator-doc-link fitted\">i<span>Fitted</span></span></label><div class=\"sk-toggleable__content fitted\"><pre>GridSearchCV(estimator=SVC(),\n",
       "             param_grid={&#x27;C&#x27;: [0.1, 1, 10, 100, 1000],\n",
       "                         &#x27;gamma&#x27;: [1, 0.1, 0.01, 0.001, 0.0001],\n",
       "                         &#x27;kernel&#x27;: [&#x27;rbf&#x27;, &#x27;linear&#x27;]})</pre></div> </div></div><div class=\"sk-parallel\"><div class=\"sk-parallel-item\"><div class=\"sk-item\"><div class=\"sk-label-container\"><div class=\"sk-label fitted sk-toggleable\"><input class=\"sk-toggleable__control sk-hidden--visually\" id=\"sk-estimator-id-2\" type=\"checkbox\" ><label for=\"sk-estimator-id-2\" class=\"sk-toggleable__label fitted sk-toggleable__label-arrow fitted\">estimator: SVC</label><div class=\"sk-toggleable__content fitted\"><pre>SVC()</pre></div> </div></div><div class=\"sk-serial\"><div class=\"sk-item\"><div class=\"sk-estimator fitted sk-toggleable\"><input class=\"sk-toggleable__control sk-hidden--visually\" id=\"sk-estimator-id-3\" type=\"checkbox\" ><label for=\"sk-estimator-id-3\" class=\"sk-toggleable__label fitted sk-toggleable__label-arrow fitted\">&nbsp;SVC<a class=\"sk-estimator-doc-link fitted\" rel=\"noreferrer\" target=\"_blank\" href=\"https://scikit-learn.org/1.4/modules/generated/sklearn.svm.SVC.html\">?<span>Documentation for SVC</span></a></label><div class=\"sk-toggleable__content fitted\"><pre>SVC()</pre></div> </div></div></div></div></div></div></div></div></div>"
      ],
      "text/plain": [
       "GridSearchCV(estimator=SVC(),\n",
       "             param_grid={'C': [0.1, 1, 10, 100, 1000],\n",
       "                         'gamma': [1, 0.1, 0.01, 0.001, 0.0001],\n",
       "                         'kernel': ['rbf', 'linear']})"
      ]
     },
     "execution_count": 138,
     "metadata": {},
     "output_type": "execute_result"
    }
   ],
   "source": [
    "#Hyperparamter tuning using Gridsearch\n",
    "svm = SVC()\n",
    "# param_grid = {'C':[0.01,0.05,0.1,1,10, 100, 1000],'kernel':['linear','rbf'], 'gamma':['scale','auto'] }\n",
    "param_grid = {'C': [0.1, 1, 10, 100, 1000],\n",
    "              'gamma': [1, 0.1, 0.01, 0.001, 0.0001],\n",
    "              'kernel': ['rbf','linear']}\n",
    "grid = GridSearchCV(svm,param_grid)\n",
    "\n",
    "#Fitting the model\n",
    "grid.fit(x_train,y_train)"
   ]
  },
  {
   "cell_type": "code",
   "execution_count": 139,
   "id": "ddb941f9-0e72-4626-8c88-f853f1020886",
   "metadata": {},
   "outputs": [
    {
     "data": {
      "text/plain": [
       "0.9654618473895582"
      ]
     },
     "execution_count": 139,
     "metadata": {},
     "output_type": "execute_result"
    }
   ],
   "source": [
    "#Calculating the accuracy of tuned model\n",
    "grid_svc = grid.predict(x_test)\n",
    "accuracy_score(y_test,grid_svc)"
   ]
  },
  {
   "cell_type": "code",
   "execution_count": 140,
   "id": "2a44d016-943e-425d-8fd2-c2b477635097",
   "metadata": {},
   "outputs": [
    {
     "name": "stdout",
     "output_type": "stream",
     "text": [
      "              precision    recall  f1-score   support\n",
      "\n",
      "         0.0       0.97      0.99      0.98      1118\n",
      "         1.0       0.91      0.73      0.81       127\n",
      "\n",
      "    accuracy                           0.97      1245\n",
      "   macro avg       0.94      0.86      0.90      1245\n",
      "weighted avg       0.96      0.97      0.96      1245\n",
      "\n"
     ]
    }
   ],
   "source": [
    "#Classification report for the tuned model\n",
    "print(classification_report(y_test,grid_svc))"
   ]
  },
  {
   "cell_type": "code",
   "execution_count": 141,
   "id": "19c019d7-43fb-4720-abad-02e764ba8caa",
   "metadata": {},
   "outputs": [
    {
     "name": "stdout",
     "output_type": "stream",
     "text": [
      "{'C': 1000, 'gamma': 0.0001, 'kernel': 'rbf'}\n",
      "{'C': 1000, 'break_ties': False, 'cache_size': 200, 'class_weight': None, 'coef0': 0.0, 'decision_function_shape': 'ovr', 'degree': 3, 'gamma': 0.0001, 'kernel': 'rbf', 'max_iter': -1, 'probability': False, 'random_state': None, 'shrinking': True, 'tol': 0.001, 'verbose': False}\n"
     ]
    }
   ],
   "source": [
    "print(grid.best_params_)\n",
    "print(grid.best_estimator_.get_params())"
   ]
  },
  {
   "cell_type": "markdown",
   "id": "8dfb277a-02fa-4431-9c0a-0a5a10bf1382",
   "metadata": {},
   "source": [
    "**C. Print evaluation metrics for final model.**"
   ]
  },
  {
   "cell_type": "code",
   "execution_count": 157,
   "id": "7b2bc73d-5a4b-4c71-b131-24151105a20d",
   "metadata": {},
   "outputs": [
    {
     "name": "stdout",
     "output_type": "stream",
     "text": [
      "Score of the best SVM model 0.97\n",
      "              precision    recall  f1-score   support\n",
      "\n",
      "         0.0       0.97      0.99      0.98      1118\n",
      "         1.0       0.91      0.73      0.81       127\n",
      "\n",
      "    accuracy                           0.97      1245\n",
      "   macro avg       0.94      0.86      0.90      1245\n",
      "weighted avg       0.96      0.97      0.96      1245\n",
      "\n"
     ]
    },
    {
     "data": {
      "image/png": "[encoded data removed]",
      "text/plain": [
       "<Figure size 300x200 with 2 Axes>"
      ]
     },
     "metadata": {},
     "output_type": "display_data"
    },
    {
     "name": "stdout",
     "output_type": "stream",
     "text": [
      "*************************************************\n",
      "\n",
      "\n",
      "\n",
      "Score of the best KNN model 0.92\n",
      "              precision    recall  f1-score   support\n",
      "\n",
      "         0.0       0.97      0.99      0.98      1118\n",
      "         1.0       0.91      0.73      0.81       127\n",
      "\n",
      "    accuracy                           0.97      1245\n",
      "   macro avg       0.94      0.86      0.90      1245\n",
      "weighted avg       0.96      0.97      0.96      1245\n",
      "\n"
     ]
    },
    {
     "data": {
      "image/png": "[encoded data removed]",
      "text/plain": [
       "<Figure size 300x200 with 2 Axes>"
      ]
     },
     "metadata": {},
     "output_type": "display_data"
    },
    {
     "name": "stdout",
     "output_type": "stream",
     "text": [
      "*************************************************\n",
      "\n",
      "\n",
      "\n"
     ]
    }
   ],
   "source": [
    "#best model SVM\n",
    "#Hyperparameters: {'algorithm': 'auto', 'n_neighbors': 4, 'p': 1, 'weights': 'distance'}\n",
    "\n",
    "best_svm = SVC(kernel=\"rbf\",gamma=0.0001,C=1000)\n",
    "best_svm.fit(x_train,y_train)\n",
    "#predicitng y_test\n",
    "y_predict1 = best_svm.predict(x_test)\n",
    "model_score = best_svm.score(x_test, y_test)\n",
    "print('Score of the best SVM model %.2f' %model_score)\n",
    "print(classification_report(y_test, y_predict1))\n",
    "\n",
    "cm=metrics.confusion_matrix(y_test, y_predict1, labels=[1, 0])\n",
    "df_cm = pd.DataFrame(cm, index = [i for i in [\"1\",\"0\"]], columns = [i for i in [\"Predict 1\",\"Predict 0\"]])\n",
    "plt.figure(figsize = (3,2))\n",
    "sns.heatmap(df_cm, annot=True, fmt='.0f')\n",
    "plt.show()\n",
    "\n",
    "print('*************************************************\\n\\n\\n')\n",
    "\n",
    "\n",
    "\n",
    "\n",
    "\n",
    "\n",
    "\n",
    "\n",
    "\n",
    "\n",
    "#best model KNN\n",
    "best_knn = KNeighborsClassifier(algorithm='auto', n_neighbors= 4, p=1, weights='distance')\n",
    "#training the model\n",
    "best_knn.fit(x_train, y_train)\n",
    "#predicitng y_test\n",
    "y_predict2=best_knn.predict(x_test)\n",
    "\n",
    "model_score = best_knn.score(x_test, y_test)\n",
    "print('Score of the best KNN model %.2f' %model_score)\n",
    "print(classification_report(y_test, y_predict1))\n",
    "\n",
    "cm=metrics.confusion_matrix(y_test, y_predict2, labels=[1, 0])\n",
    "df_cm = pd.DataFrame(cm, index = [i for i in [\"1\",\"0\"]], columns = [i for i in [\"Predict 1\",\"Predict 0\"]])\n",
    "plt.figure(figsize = (3,2))\n",
    "sns.heatmap(df_cm, annot=True, fmt='.0f')\n",
    "plt.show()\n",
    "\n",
    "print('*************************************************\\n\\n\\n')\n"
   ]
  },
  {
   "cell_type": "markdown",
   "id": "9ce16990-b076-4140-9aff-77b76c6b522e",
   "metadata": {},
   "source": [
    "Clearly the SVM model outperforms the KNN model and therefore we will be moving with SVM as our final model"
   ]
  },
  {
   "cell_type": "markdown",
   "id": "8168eb3d-0416-4eaa-b08f-f264fc012a1b",
   "metadata": {},
   "source": [
    "**D. Share improvement achieved from base model to final model.**"
   ]
  },
  {
   "cell_type": "code",
   "execution_count": 158,
   "id": "10e9d348-992f-4c32-a0a2-7ad357d9129c",
   "metadata": {},
   "outputs": [],
   "source": [
    "accuracy_2 = accuracy_score(y_test, y_predict1)\n",
    "error_rate_2 = 1 - accuracy_2\n",
    "precision_2 = precision_score(y_test, y_predict1, average='weighted')\n",
    "recall_2 = recall_score(y_test, y_predict1, average='weighted') \n",
    "f1_2 = f1_score(y_test, y_predict1, average='weighted')"
   ]
  },
  {
   "attachments": {
    "299e022e-e533-4074-b024-e954be255606.png": {
     "image/png": "[encoded data removed]"
    },
    "5b3b820d-431f-483b-940a-fb53657901d7.png": {
     "image/png": "[encoded data removed]"
    },
    "9e60aae0-0a36-4868-bb6b-704c2c96fc0b.png": {
     "image/png": "[encoded data removed]"
    },
    "abd33e37-c7ae-4f61-9810-f9e80ff07918.png": {
     "image/png": "[encoded data removed]"
    }
   },
   "cell_type": "markdown",
   "id": "0c026a4d-ba8e-40bd-9d8b-5083a6291d3b",
   "metadata": {},
   "source": [
    "**Defalt SVM Model**\n",
    "\n",
    "![image.png](attachment:299e022e-e533-4074-b024-e954be255606.png)\n",
    "\n",
    "![image.png](attachment:9e60aae0-0a36-4868-bb6b-704c2c96fc0b.png)\n",
    "\n",
    "**Final/Best SVM Model**\n",
    "\n",
    "![image.png](attachment:abd33e37-c7ae-4f61-9810-f9e80ff07918.png)\n",
    "\n",
    "![image.png](attachment:5b3b820d-431f-483b-940a-fb53657901d7.png)\n",
    "\n",
    "*********************************************************************"
   ]
  },
  {
   "cell_type": "code",
   "execution_count": 161,
   "id": "30d23ee7-b3d8-4469-ac21-e95fb3369053",
   "metadata": {},
   "outputs": [
    {
     "name": "stdout",
     "output_type": "stream",
     "text": [
      "Accurancy increased by 6.94 %\n",
      "Precision increased by 9.49 %\n",
      "Error rate decreased by -64.46 %\n",
      "Recall increased by 6.94 %\n",
      "F1 Score increased by 10.82 %\n"
     ]
    }
   ],
   "source": [
    "print(\"Accurancy increased by %.2f\" %(((accuracy_2-accuracy)/accuracy)*100),'%')\n",
    "print(\"Precision increased by %.2f\" %(((precision_2-precision)/precision)*100),'%')\n",
    "print(\"Error rate decreased by %.2f\" %(((error_rate_2-error_rate)/error_rate)*100),'%')\n",
    "print(\"Recall increased by %.2f\" %(((recall_2-recall)/recall)*100),'%')\n",
    "print(\"F1 Score increased by %.2f\" %(((f1_2-f1)/f1)*100),'%')"
   ]
  },
  {
   "cell_type": "markdown",
   "id": "6cbd8ed0-4bbb-4955-afb2-2848d6b40866",
   "metadata": {},
   "source": [
    "So clearly our with all positive metrics getting increased as well as getting the predition rate better looking at the Type1 and Type2 error, we can say that our model has performed really well than the base one."
   ]
  }
 ],
 "metadata": {
  "kernelspec": {
   "display_name": "Python 3 (ipykernel)",
   "language": "python",
   "name": "python3"
  },
  "language_info": {
   "codemirror_mode": {
    "name": "ipython",
    "version": 3
   },
   "file_extension": ".py",
   "mimetype": "text/x-python",
   "name": "python",
   "nbconvert_exporter": "python",
   "pygments_lexer": "ipython3",
   "version": "3.11.8"
  }
 },
 "nbformat": 4,
 "nbformat_minor": 5
}
